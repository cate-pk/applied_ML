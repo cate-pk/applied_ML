{
  "nbformat": 4,
  "nbformat_minor": 0,
  "metadata": {
    "colab": {
      "name": "RNN-07-3-IMDB-3.ipynb",
      "provenance": [],
      "collapsed_sections": [
        "CCYSnNW3Atii",
        "G0rlz62XBwsk"
      ]
    },
    "kernelspec": {
      "name": "python3",
      "display_name": "Python 3"
    },
    "accelerator": "GPU"
  },
  "cells": [
    {
      "cell_type": "markdown",
      "metadata": {
        "id": "JnalwmLY9rVs",
        "colab_type": "text"
      },
      "source": [
        "# Homework 8 \n",
        "\n",
        "CNN, SimpleRNN, RNN, LSTM, Bidirectional LSTM, GRU를 쓰는 경우\n",
        "- learning 시간과\n",
        "- accuracy를 비교하라."
      ]
    },
    {
      "cell_type": "markdown",
      "metadata": {
        "id": "L4n0ABxN0Ry8",
        "colab_type": "text"
      },
      "source": [
        "## Presets"
      ]
    },
    {
      "cell_type": "code",
      "metadata": {
        "id": "DiUyHNKOcfI-",
        "colab_type": "code",
        "colab": {
          "base_uri": "https://localhost:8080/",
          "height": 34
        },
        "outputId": "a7f95f66-143a-4dec-9687-f2ca433a0d51"
      },
      "source": [
        "%tensorflow_version 2.x\n",
        "\n",
        "import numpy as np\n",
        "import matplotlib.pyplot as plt\n",
        "from sklearn.model_selection import train_test_split\n",
        "from tensorflow.keras.datasets import imdb\n",
        "from tensorflow.keras.preprocessing.sequence import pad_sequences\n",
        "from tensorflow.keras.models import Sequential\n",
        "from tensorflow.keras.layers import Dense, Dropout, Activation, Conv1D, MaxPooling2D, Embedding, Flatten, SimpleRNN, LSTM, Bidirectional, GRU\n",
        "from tensorflow.keras.layers import Reshape, Conv2D, GlobalMaxPooling2D\n",
        "from tensorflow.keras.utils import to_categorical, plot_model\n",
        "from tensorflow.keras import optimizers\n",
        "\n",
        "from tensorflow.keras.models import Model\n",
        "from tensorflow.keras.layers import concatenate, Input\n",
        "\n",
        "import tensorflow as tf\n",
        "from keras import backend as K"
      ],
      "execution_count": 16,
      "outputs": [
        {
          "output_type": "stream",
          "text": [
            "Using TensorFlow backend.\n"
          ],
          "name": "stderr"
        }
      ]
    },
    {
      "cell_type": "code",
      "metadata": {
        "id": "aJFA7gwtAlVs",
        "colab_type": "code",
        "colab": {}
      },
      "source": [
        "num_features = 5000\n",
        "sequence_length = 500\n",
        "embedding_dimension = 100\n",
        "(X_train, y_train), (X_test, y_test) = imdb.load_data(num_words = num_features)\n",
        "X_train = pad_sequences(X_train, maxlen = sequence_length)\n",
        "X_test = pad_sequences(X_test, maxlen = sequence_length)"
      ],
      "execution_count": 0,
      "outputs": []
    },
    {
      "cell_type": "markdown",
      "metadata": {
        "id": "CCYSnNW3Atii",
        "colab_type": "text"
      },
      "source": [
        "## CNN"
      ]
    },
    {
      "cell_type": "code",
      "metadata": {
        "id": "akkMwaXdAb7m",
        "colab_type": "code",
        "colab": {}
      },
      "source": [
        "filter_sizes = [3, 4, 5]"
      ],
      "execution_count": 0,
      "outputs": []
    },
    {
      "cell_type": "code",
      "metadata": {
        "id": "d3Lv0A_8AtsV",
        "colab_type": "code",
        "colab": {}
      },
      "source": [
        "def convolution():\n",
        "    inn = Input(shape = (sequence_length, embedding_dimension, 1))\n",
        "    convolutions = []\n",
        "    # we conduct three convolutions & poolings then concatenate them.\n",
        "    for fs in filter_sizes:\n",
        "        conv = Conv2D(filters = 100, kernel_size = (fs, embedding_dimension), strides = 1, padding = \"valid\")(inn)\n",
        "        nonlinearity = Activation('relu')(conv)\n",
        "        maxpool = MaxPooling2D(pool_size = (sequence_length - fs + 1, 1), padding = \"valid\")(nonlinearity)\n",
        "        convolutions.append(maxpool)\n",
        "        \n",
        "    outt = concatenate(convolutions)\n",
        "    model = Model(inputs = inn, outputs = outt)\n",
        "        \n",
        "    return model"
      ],
      "execution_count": 0,
      "outputs": []
    },
    {
      "cell_type": "code",
      "metadata": {
        "id": "fUMlOzopA24N",
        "colab_type": "code",
        "colab": {}
      },
      "source": [
        "def imdb_cnn_3():\n",
        "    \n",
        "    model = Sequential()\n",
        "    model.add(Embedding(input_dim = 5000, output_dim = embedding_dimension, input_length = sequence_length))\n",
        "    model.add(Reshape((sequence_length, embedding_dimension, 1), input_shape = (sequence_length, embedding_dimension)))\n",
        "    \n",
        "    # call convolution method defined above\n",
        "    model.add(convolution())\n",
        "    \n",
        "    model.add(Flatten())\n",
        "    model.add(Dense(10))\n",
        "    model.add(Activation('relu'))\n",
        "    model.add(Dropout(0.3))\n",
        "    model.add(Dense(10))\n",
        "    model.add(Activation('relu'))\n",
        "    model.add(Dropout(0.3))\n",
        "    model.add(Dense(1))\n",
        "    model.add(Activation('sigmoid'))\n",
        "\n",
        "    adam = optimizers.Adam(lr = 0.001)\n",
        "\n",
        "    model.compile(loss='binary_crossentropy', optimizer=adam , metrics=['accuracy'])\n",
        "    \n",
        "    return model"
      ],
      "execution_count": 0,
      "outputs": []
    },
    {
      "cell_type": "code",
      "metadata": {
        "id": "M6STJU6fDEXk",
        "colab_type": "code",
        "outputId": "0abdf781-692d-4ef4-ee84-394691d63404",
        "colab": {
          "base_uri": "https://localhost:8080/",
          "height": 561
        }
      },
      "source": [
        "model = imdb_cnn_3()\n",
        "model.summary()"
      ],
      "execution_count": 6,
      "outputs": [
        {
          "output_type": "stream",
          "text": [
            "Model: \"sequential\"\n",
            "_________________________________________________________________\n",
            "Layer (type)                 Output Shape              Param #   \n",
            "=================================================================\n",
            "embedding (Embedding)        (None, 500, 100)          500000    \n",
            "_________________________________________________________________\n",
            "reshape (Reshape)            (None, 500, 100, 1)       0         \n",
            "_________________________________________________________________\n",
            "model (Model)                (None, 1, 1, 300)         120300    \n",
            "_________________________________________________________________\n",
            "flatten (Flatten)            (None, 300)               0         \n",
            "_________________________________________________________________\n",
            "dense (Dense)                (None, 10)                3010      \n",
            "_________________________________________________________________\n",
            "activation_3 (Activation)    (None, 10)                0         \n",
            "_________________________________________________________________\n",
            "dropout (Dropout)            (None, 10)                0         \n",
            "_________________________________________________________________\n",
            "dense_1 (Dense)              (None, 10)                110       \n",
            "_________________________________________________________________\n",
            "activation_4 (Activation)    (None, 10)                0         \n",
            "_________________________________________________________________\n",
            "dropout_1 (Dropout)          (None, 10)                0         \n",
            "_________________________________________________________________\n",
            "dense_2 (Dense)              (None, 1)                 11        \n",
            "_________________________________________________________________\n",
            "activation_5 (Activation)    (None, 1)                 0         \n",
            "=================================================================\n",
            "Total params: 623,431\n",
            "Trainable params: 623,431\n",
            "Non-trainable params: 0\n",
            "_________________________________________________________________\n"
          ],
          "name": "stdout"
        }
      ]
    },
    {
      "cell_type": "code",
      "metadata": {
        "id": "eyOV4UdSDILU",
        "colab_type": "code",
        "outputId": "9f3ab576-3eb7-45ba-baa5-60f396e327c0",
        "colab": {
          "base_uri": "https://localhost:8080/",
          "height": 391
        }
      },
      "source": [
        "%%time\n",
        "history = model.fit(X_train, y_train, batch_size = 50, epochs = 10, validation_split = 0.2, verbose = 1)"
      ],
      "execution_count": 7,
      "outputs": [
        {
          "output_type": "stream",
          "text": [
            "Epoch 1/10\n",
            "400/400 [==============================] - 10s 24ms/step - loss: 0.5367 - accuracy: 0.6996 - val_loss: 0.3497 - val_accuracy: 0.8554\n",
            "Epoch 2/10\n",
            "400/400 [==============================] - 9s 23ms/step - loss: 0.3250 - accuracy: 0.8777 - val_loss: 0.2825 - val_accuracy: 0.8892\n",
            "Epoch 3/10\n",
            "400/400 [==============================] - 9s 23ms/step - loss: 0.2468 - accuracy: 0.9180 - val_loss: 0.2628 - val_accuracy: 0.8992\n",
            "Epoch 4/10\n",
            "400/400 [==============================] - 9s 23ms/step - loss: 0.1796 - accuracy: 0.9448 - val_loss: 0.3019 - val_accuracy: 0.8926\n",
            "Epoch 5/10\n",
            "400/400 [==============================] - 9s 23ms/step - loss: 0.1414 - accuracy: 0.9574 - val_loss: 0.3390 - val_accuracy: 0.8892\n",
            "Epoch 6/10\n",
            "400/400 [==============================] - 10s 24ms/step - loss: 0.1051 - accuracy: 0.9682 - val_loss: 0.4038 - val_accuracy: 0.8862\n",
            "Epoch 7/10\n",
            "400/400 [==============================] - 9s 23ms/step - loss: 0.0871 - accuracy: 0.9743 - val_loss: 0.4263 - val_accuracy: 0.8890\n",
            "Epoch 8/10\n",
            "400/400 [==============================] - 9s 23ms/step - loss: 0.0857 - accuracy: 0.9730 - val_loss: 0.4916 - val_accuracy: 0.8896\n",
            "Epoch 9/10\n",
            "400/400 [==============================] - 9s 23ms/step - loss: 0.0734 - accuracy: 0.9778 - val_loss: 0.5488 - val_accuracy: 0.8798\n",
            "Epoch 10/10\n",
            "400/400 [==============================] - 9s 23ms/step - loss: 0.0631 - accuracy: 0.9797 - val_loss: 0.7930 - val_accuracy: 0.8876\n",
            "CPU times: user 1min 10s, sys: 7.81 s, total: 1min 18s\n",
            "Wall time: 1min 35s\n"
          ],
          "name": "stdout"
        }
      ]
    },
    {
      "cell_type": "code",
      "metadata": {
        "id": "YnNxx9juDXTD",
        "colab_type": "code",
        "outputId": "5199d8eb-21ec-49ea-a505-5d5bb2ac4591",
        "colab": {
          "base_uri": "https://localhost:8080/",
          "height": 265
        }
      },
      "source": [
        "plt.plot(history.history['accuracy'])\n",
        "plt.plot(history.history['val_accuracy'])\n",
        "plt.legend(['training', 'validation'], loc = 'upper left')\n",
        "plt.show()"
      ],
      "execution_count": 8,
      "outputs": [
        {
          "output_type": "display_data",
          "data": {
            "image/png": "[encoded data removed]",
            "text/plain": [
              "<Figure size 432x288 with 1 Axes>"
            ]
          },
          "metadata": {
            "tags": [],
            "needs_background": "light"
          }
        }
      ]
    },
    {
      "cell_type": "code",
      "metadata": {
        "id": "sgAYhL_ODk8C",
        "colab_type": "code",
        "outputId": "e14c913e-f019-4608-a3b0-f8ad80be5e09",
        "colab": {
          "base_uri": "https://localhost:8080/",
          "height": 51
        }
      },
      "source": [
        "results = model.evaluate(X_test, y_test)\n",
        "print('Test accuracy: ', results[1])"
      ],
      "execution_count": 9,
      "outputs": [
        {
          "output_type": "stream",
          "text": [
            "782/782 [==============================] - 5s 6ms/step - loss: 0.7851 - accuracy: 0.8781\n",
            "Test accuracy:  0.8780800104141235\n"
          ],
          "name": "stdout"
        }
      ]
    },
    {
      "cell_type": "markdown",
      "metadata": {
        "id": "refLEJLiBsvS",
        "colab_type": "text"
      },
      "source": [
        "## SimpleRNN"
      ]
    },
    {
      "cell_type": "code",
      "metadata": {
        "id": "D5JQnSZcDB-d",
        "colab_type": "code",
        "colab": {
          "base_uri": "https://localhost:8080/",
          "height": 272
        },
        "outputId": "9d924b31-8de8-4db8-a6c2-9fa8fd805667"
      },
      "source": [
        "input_shape = (500, 100)\n",
        "batch_size = 128\n",
        "units = 50 # output 갯수\n",
        "dropout = 0.2\n",
        "\n",
        "model=Sequential()\n",
        "model.add(Embedding(input_dim = 5000, output_dim = embedding_dimension, input_length = sequence_length))\n",
        "model.add(SimpleRNN(100))\n",
        "model.add(Dense(1, activation='sigmoid'))\n",
        "print(model.summary())"
      ],
      "execution_count": 10,
      "outputs": [
        {
          "output_type": "stream",
          "text": [
            "Model: \"sequential_1\"\n",
            "_________________________________________________________________\n",
            "Layer (type)                 Output Shape              Param #   \n",
            "=================================================================\n",
            "embedding_1 (Embedding)      (None, 500, 100)          500000    \n",
            "_________________________________________________________________\n",
            "simple_rnn (SimpleRNN)       (None, 100)               20100     \n",
            "_________________________________________________________________\n",
            "dense_3 (Dense)              (None, 1)                 101       \n",
            "=================================================================\n",
            "Total params: 520,201\n",
            "Trainable params: 520,201\n",
            "Non-trainable params: 0\n",
            "_________________________________________________________________\n",
            "None\n"
          ],
          "name": "stdout"
        }
      ]
    },
    {
      "cell_type": "code",
      "metadata": {
        "id": "GI9Tlz8xDeDB",
        "colab_type": "code",
        "colab": {}
      },
      "source": [
        "adam = optimizers.Adam(lr = 0.001)\n",
        "model.compile(loss='binary_crossentropy', optimizer=adam , metrics=['accuracy'])"
      ],
      "execution_count": 0,
      "outputs": []
    },
    {
      "cell_type": "code",
      "metadata": {
        "id": "uaylK-sXDgUe",
        "colab_type": "code",
        "colab": {
          "base_uri": "https://localhost:8080/",
          "height": 391
        },
        "outputId": "3ffe2611-bdcf-4b0c-b707-5d352f0f8f69"
      },
      "source": [
        "%%time\n",
        "history = model.fit(X_train, y_train, batch_size = 50, epochs = 10, validation_split = 0.2, verbose = 1)"
      ],
      "execution_count": 12,
      "outputs": [
        {
          "output_type": "stream",
          "text": [
            "Epoch 1/10\n",
            "400/400 [==============================] - 101s 253ms/step - loss: 0.6469 - accuracy: 0.5996 - val_loss: 0.6015 - val_accuracy: 0.6718\n",
            "Epoch 2/10\n",
            "400/400 [==============================] - 102s 255ms/step - loss: 0.4604 - accuracy: 0.7880 - val_loss: 0.4910 - val_accuracy: 0.7610\n",
            "Epoch 3/10\n",
            "400/400 [==============================] - 102s 255ms/step - loss: 0.5288 - accuracy: 0.7218 - val_loss: 0.6371 - val_accuracy: 0.6120\n",
            "Epoch 4/10\n",
            "400/400 [==============================] - 102s 256ms/step - loss: 0.5798 - accuracy: 0.6816 - val_loss: 0.6463 - val_accuracy: 0.6160\n",
            "Epoch 5/10\n",
            "400/400 [==============================] - 103s 258ms/step - loss: 0.5560 - accuracy: 0.6992 - val_loss: 0.6467 - val_accuracy: 0.6254\n",
            "Epoch 6/10\n",
            "400/400 [==============================] - 102s 256ms/step - loss: 0.5168 - accuracy: 0.7315 - val_loss: 0.5841 - val_accuracy: 0.7340\n",
            "Epoch 7/10\n",
            "400/400 [==============================] - 103s 257ms/step - loss: 0.4501 - accuracy: 0.7812 - val_loss: 0.5758 - val_accuracy: 0.7414\n",
            "Epoch 8/10\n",
            "400/400 [==============================] - 103s 258ms/step - loss: 0.4316 - accuracy: 0.7969 - val_loss: 0.6662 - val_accuracy: 0.6356\n",
            "Epoch 9/10\n",
            "400/400 [==============================] - 103s 257ms/step - loss: 0.4474 - accuracy: 0.7815 - val_loss: 0.6627 - val_accuracy: 0.6520\n",
            "Epoch 10/10\n",
            "400/400 [==============================] - 103s 256ms/step - loss: 0.4551 - accuracy: 0.7782 - val_loss: 0.6692 - val_accuracy: 0.6730\n",
            "CPU times: user 24min 40s, sys: 1min 41s, total: 26min 21s\n",
            "Wall time: 17min 7s\n"
          ],
          "name": "stdout"
        }
      ]
    },
    {
      "cell_type": "code",
      "metadata": {
        "id": "D9s6zqGwDiFE",
        "colab_type": "code",
        "colab": {
          "base_uri": "https://localhost:8080/",
          "height": 265
        },
        "outputId": "1c6c2435-7c36-42b2-84f6-91e3ef8c23e1"
      },
      "source": [
        "plt.plot(history.history['accuracy'])\n",
        "plt.plot(history.history['val_accuracy'])\n",
        "plt.legend(['training', 'validation'], loc = 'upper left')\n",
        "plt.show()"
      ],
      "execution_count": 13,
      "outputs": [
        {
          "output_type": "display_data",
          "data": {
            "image/png": "[encoded data removed]",
            "text/plain": [
              "<Figure size 432x288 with 1 Axes>"
            ]
          },
          "metadata": {
            "tags": [],
            "needs_background": "light"
          }
        }
      ]
    },
    {
      "cell_type": "code",
      "metadata": {
        "id": "FhmxStzXDlaJ",
        "colab_type": "code",
        "colab": {
          "base_uri": "https://localhost:8080/",
          "height": 51
        },
        "outputId": "b37a4d5f-7121-4300-eff2-b0ea969c2022"
      },
      "source": [
        "results = model.evaluate(X_test, y_test)\n",
        "print('Test accuracy: ', results[1])"
      ],
      "execution_count": 14,
      "outputs": [
        {
          "output_type": "stream",
          "text": [
            "782/782 [==============================] - 26s 34ms/step - loss: 0.6610 - accuracy: 0.6700\n",
            "Test accuracy:  0.6700400114059448\n"
          ],
          "name": "stdout"
        }
      ]
    },
    {
      "cell_type": "markdown",
      "metadata": {
        "id": "RP55mSbgYpwG",
        "colab_type": "text"
      },
      "source": [
        "## RNN"
      ]
    },
    {
      "cell_type": "code",
      "metadata": {
        "id": "JrwCWRiTYr4P",
        "colab_type": "code",
        "colab": {
          "base_uri": "https://localhost:8080/",
          "height": 272
        },
        "outputId": "3eb15147-5c66-4ed1-91aa-5496e48a2bb5"
      },
      "source": [
        "input_shape = (500, 100)\n",
        "batch_size = 128\n",
        "units = 50 # output 갯수\n",
        "dropout = 0.2\n",
        "\n",
        "class MinimalRNNCell(tf.keras.layers.Layer):\n",
        "\n",
        "    def __init__(self, units, **kwargs):\n",
        "        self.units = units\n",
        "        self.state_size = units\n",
        "        super(MinimalRNNCell, self).__init__(**kwargs)\n",
        "\n",
        "    def build(self, input_shape):\n",
        "        self.kernel = self.add_weight(shape=(input_shape[-1], self.units),\n",
        "                                      initializer='uniform',\n",
        "                                      name='kernel')\n",
        "        self.recurrent_kernel = self.add_weight(\n",
        "            shape=(self.units, self.units),\n",
        "            initializer='uniform',\n",
        "            name='recurrent_kernel')\n",
        "        self.built = True\n",
        "\n",
        "    def call(self, inputs, states):\n",
        "        prev_output = states[0]\n",
        "        h = K.dot(inputs, self.kernel)\n",
        "        output = h + K.dot(prev_output, self.recurrent_kernel)\n",
        "        return output, [output]\n",
        "\n",
        "cell = MinimalRNNCell(32)\n",
        "\n",
        "model=Sequential()\n",
        "model.add(Embedding(input_dim = 5000, output_dim = embedding_dimension, input_length = sequence_length))\n",
        "model.add(tf.keras.layers.RNN(cell))\n",
        "model.add(Dense(1, activation='sigmoid'))\n",
        "print(model.summary())"
      ],
      "execution_count": 17,
      "outputs": [
        {
          "output_type": "stream",
          "text": [
            "Model: \"sequential_3\"\n",
            "_________________________________________________________________\n",
            "Layer (type)                 Output Shape              Param #   \n",
            "=================================================================\n",
            "embedding_3 (Embedding)      (None, 500, 100)          500000    \n",
            "_________________________________________________________________\n",
            "rnn_1 (RNN)                  (None, 32)                4224      \n",
            "_________________________________________________________________\n",
            "dense_4 (Dense)              (None, 1)                 33        \n",
            "=================================================================\n",
            "Total params: 504,257\n",
            "Trainable params: 504,257\n",
            "Non-trainable params: 0\n",
            "_________________________________________________________________\n",
            "None\n"
          ],
          "name": "stdout"
        }
      ]
    },
    {
      "cell_type": "code",
      "metadata": {
        "id": "cPt64a0zYwza",
        "colab_type": "code",
        "colab": {}
      },
      "source": [
        "adam = optimizers.Adam(lr = 0.001)\n",
        "model.compile(loss='binary_crossentropy', optimizer=adam , metrics=['accuracy'])"
      ],
      "execution_count": 0,
      "outputs": []
    },
    {
      "cell_type": "code",
      "metadata": {
        "id": "qPg1jNOvYzv1",
        "colab_type": "code",
        "colab": {
          "base_uri": "https://localhost:8080/",
          "height": 391
        },
        "outputId": "be52eea1-1c8e-4c1b-a287-550851c38482"
      },
      "source": [
        "%%time\n",
        "history = model.fit(X_train, y_train, batch_size = 50, epochs = 10, validation_split = 0.2, verbose = 1)"
      ],
      "execution_count": 19,
      "outputs": [
        {
          "output_type": "stream",
          "text": [
            "Epoch 1/10\n",
            "400/400 [==============================] - 87s 217ms/step - loss: 0.6225 - accuracy: 0.7248 - val_loss: 0.6331 - val_accuracy: 0.6176\n",
            "Epoch 2/10\n",
            "400/400 [==============================] - 88s 219ms/step - loss: 0.5823 - accuracy: 0.6906 - val_loss: 0.5717 - val_accuracy: 0.6932\n",
            "Epoch 3/10\n",
            "400/400 [==============================] - 87s 218ms/step - loss: 0.3609 - accuracy: 0.8402 - val_loss: 0.3642 - val_accuracy: 0.8322\n",
            "Epoch 4/10\n",
            "400/400 [==============================] - 85s 214ms/step - loss: 0.2552 - accuracy: 0.8946 - val_loss: 0.3139 - val_accuracy: 0.8688\n",
            "Epoch 5/10\n",
            "400/400 [==============================] - 86s 215ms/step - loss: 0.2058 - accuracy: 0.9208 - val_loss: 0.3513 - val_accuracy: 0.8424\n",
            "Epoch 6/10\n",
            "400/400 [==============================] - 85s 212ms/step - loss: 0.1887 - accuracy: 0.9281 - val_loss: 0.3738 - val_accuracy: 0.8774\n",
            "Epoch 7/10\n",
            "400/400 [==============================] - 83s 209ms/step - loss: 0.1614 - accuracy: 0.9390 - val_loss: 0.3602 - val_accuracy: 0.8714\n",
            "Epoch 8/10\n",
            "400/400 [==============================] - 82s 206ms/step - loss: 0.1876 - accuracy: 0.9261 - val_loss: 0.3874 - val_accuracy: 0.8740\n",
            "Epoch 9/10\n",
            "400/400 [==============================] - 80s 201ms/step - loss: 0.1358 - accuracy: 0.9495 - val_loss: 0.4633 - val_accuracy: 0.8684\n",
            "Epoch 10/10\n",
            "400/400 [==============================] - 80s 199ms/step - loss: 0.1252 - accuracy: 0.9535 - val_loss: 0.4019 - val_accuracy: 0.8532\n",
            "CPU times: user 20min 16s, sys: 1min 40s, total: 21min 56s\n",
            "Wall time: 14min 6s\n"
          ],
          "name": "stdout"
        }
      ]
    },
    {
      "cell_type": "code",
      "metadata": {
        "id": "EDQI_9mgY1sT",
        "colab_type": "code",
        "colab": {
          "base_uri": "https://localhost:8080/",
          "height": 265
        },
        "outputId": "51ee85f7-1bce-4be0-b20b-f417ff09e2b5"
      },
      "source": [
        "plt.plot(history.history['accuracy'])\n",
        "plt.plot(history.history['val_accuracy'])\n",
        "plt.legend(['training', 'validation'], loc = 'upper left')\n",
        "plt.show()"
      ],
      "execution_count": 20,
      "outputs": [
        {
          "output_type": "display_data",
          "data": {
            "image/png": "[encoded data removed]",
            "text/plain": [
              "<Figure size 432x288 with 1 Axes>"
            ]
          },
          "metadata": {
            "tags": [],
            "needs_background": "light"
          }
        }
      ]
    },
    {
      "cell_type": "code",
      "metadata": {
        "id": "M9os6kKTY3If",
        "colab_type": "code",
        "colab": {
          "base_uri": "https://localhost:8080/",
          "height": 51
        },
        "outputId": "a6f8aa98-c3d3-456f-9da5-d130fe7ef246"
      },
      "source": [
        "results = model.evaluate(X_test, y_test)\n",
        "print('Test accuracy: ', results[1])"
      ],
      "execution_count": 21,
      "outputs": [
        {
          "output_type": "stream",
          "text": [
            "782/782 [==============================] - 21s 26ms/step - loss: 0.4156 - accuracy: 0.8450\n",
            "Test accuracy:  0.8450000286102295\n"
          ],
          "name": "stdout"
        }
      ]
    },
    {
      "cell_type": "markdown",
      "metadata": {
        "id": "G0rlz62XBwsk",
        "colab_type": "text"
      },
      "source": [
        "## LSTM"
      ]
    },
    {
      "cell_type": "code",
      "metadata": {
        "id": "sPmXUVr4LMMB",
        "colab_type": "code",
        "colab": {
          "base_uri": "https://localhost:8080/",
          "height": 272
        },
        "outputId": "c49be952-75e2-48cd-9644-1be2f7ca8e74"
      },
      "source": [
        "model=Sequential()\n",
        "model.add(Embedding(input_dim = 5000, output_dim = embedding_dimension, input_length = sequence_length))\n",
        "model.add(LSTM(100))\n",
        "model.add(Dense(1, activation='sigmoid'))\n",
        "print(model.summary())"
      ],
      "execution_count": 22,
      "outputs": [
        {
          "output_type": "stream",
          "text": [
            "Model: \"sequential_4\"\n",
            "_________________________________________________________________\n",
            "Layer (type)                 Output Shape              Param #   \n",
            "=================================================================\n",
            "embedding_4 (Embedding)      (None, 500, 100)          500000    \n",
            "_________________________________________________________________\n",
            "lstm (LSTM)                  (None, 100)               80400     \n",
            "_________________________________________________________________\n",
            "dense_5 (Dense)              (None, 1)                 101       \n",
            "=================================================================\n",
            "Total params: 580,501\n",
            "Trainable params: 580,501\n",
            "Non-trainable params: 0\n",
            "_________________________________________________________________\n",
            "None\n"
          ],
          "name": "stdout"
        }
      ]
    },
    {
      "cell_type": "code",
      "metadata": {
        "id": "OxqkVNoDCCg5",
        "colab_type": "code",
        "colab": {}
      },
      "source": [
        "adam = optimizers.Adam(lr = 0.001)\n",
        "model.compile(loss='binary_crossentropy', optimizer=adam , metrics=['accuracy'])"
      ],
      "execution_count": 0,
      "outputs": []
    },
    {
      "cell_type": "code",
      "metadata": {
        "id": "jK74UzqxCUtp",
        "colab_type": "code",
        "colab": {
          "base_uri": "https://localhost:8080/",
          "height": 391
        },
        "outputId": "45e1b192-5dba-473c-853a-8cd5ba87db71"
      },
      "source": [
        "%%time\n",
        "history = model.fit(X_train, y_train, batch_size = 50, epochs = 10, validation_split = 0.2, verbose = 1)"
      ],
      "execution_count": 24,
      "outputs": [
        {
          "output_type": "stream",
          "text": [
            "Epoch 1/10\n",
            "400/400 [==============================] - 14s 36ms/step - loss: 0.4347 - accuracy: 0.7955 - val_loss: 0.3351 - val_accuracy: 0.8660\n",
            "Epoch 2/10\n",
            "400/400 [==============================] - 14s 36ms/step - loss: 0.2761 - accuracy: 0.8897 - val_loss: 0.3161 - val_accuracy: 0.8736\n",
            "Epoch 3/10\n",
            "400/400 [==============================] - 14s 36ms/step - loss: 0.2247 - accuracy: 0.9129 - val_loss: 0.3197 - val_accuracy: 0.8776\n",
            "Epoch 4/10\n",
            "400/400 [==============================] - 14s 36ms/step - loss: 0.1863 - accuracy: 0.9295 - val_loss: 0.3441 - val_accuracy: 0.8578\n",
            "Epoch 5/10\n",
            "400/400 [==============================] - 14s 36ms/step - loss: 0.1625 - accuracy: 0.9383 - val_loss: 0.4297 - val_accuracy: 0.8490\n",
            "Epoch 6/10\n",
            "400/400 [==============================] - 14s 35ms/step - loss: 0.1367 - accuracy: 0.9488 - val_loss: 0.4796 - val_accuracy: 0.7892\n",
            "Epoch 7/10\n",
            "400/400 [==============================] - 14s 36ms/step - loss: 0.1206 - accuracy: 0.9565 - val_loss: 0.4882 - val_accuracy: 0.8580\n",
            "Epoch 8/10\n",
            "400/400 [==============================] - 14s 36ms/step - loss: 0.0986 - accuracy: 0.9659 - val_loss: 0.4932 - val_accuracy: 0.8366\n",
            "Epoch 9/10\n",
            "400/400 [==============================] - 14s 35ms/step - loss: 0.0760 - accuracy: 0.9750 - val_loss: 0.5625 - val_accuracy: 0.8538\n",
            "Epoch 10/10\n",
            "400/400 [==============================] - 14s 35ms/step - loss: 0.0675 - accuracy: 0.9780 - val_loss: 0.5772 - val_accuracy: 0.8508\n",
            "CPU times: user 2min 4s, sys: 8.39 s, total: 2min 12s\n",
            "Wall time: 2min 24s\n"
          ],
          "name": "stdout"
        }
      ]
    },
    {
      "cell_type": "code",
      "metadata": {
        "id": "v5ph1r7YCVPk",
        "colab_type": "code",
        "colab": {
          "base_uri": "https://localhost:8080/",
          "height": 265
        },
        "outputId": "ae360cd3-d87a-4c3f-d0c5-47e3ccc354b9"
      },
      "source": [
        "plt.plot(history.history['accuracy'])\n",
        "plt.plot(history.history['val_accuracy'])\n",
        "plt.legend(['training', 'validation'], loc = 'upper left')\n",
        "plt.show()"
      ],
      "execution_count": 25,
      "outputs": [
        {
          "output_type": "display_data",
          "data": {
            "image/png": "[encoded data removed]",
            "text/plain": [
              "<Figure size 432x288 with 1 Axes>"
            ]
          },
          "metadata": {
            "tags": [],
            "needs_background": "light"
          }
        }
      ]
    },
    {
      "cell_type": "code",
      "metadata": {
        "id": "rS1VrqyZCXNE",
        "colab_type": "code",
        "colab": {
          "base_uri": "https://localhost:8080/",
          "height": 51
        },
        "outputId": "a6ab649a-a392-419f-ffb5-12dad4b9c530"
      },
      "source": [
        "results = model.evaluate(X_test, y_test)\n",
        "print('Test accuracy: ', results[1])"
      ],
      "execution_count": 26,
      "outputs": [
        {
          "output_type": "stream",
          "text": [
            "782/782 [==============================] - 9s 11ms/step - loss: 0.5779 - accuracy: 0.8525\n",
            "Test accuracy:  0.8525199890136719\n"
          ],
          "name": "stdout"
        }
      ]
    },
    {
      "cell_type": "markdown",
      "metadata": {
        "id": "i007JfwQB01r",
        "colab_type": "text"
      },
      "source": [
        "## Bidirectional LSTM"
      ]
    },
    {
      "cell_type": "code",
      "metadata": {
        "id": "f1n3ZqhqCBUN",
        "colab_type": "code",
        "colab": {
          "base_uri": "https://localhost:8080/",
          "height": 272
        },
        "outputId": "91d57900-e8aa-4263-dd2e-ac792da9904a"
      },
      "source": [
        "model=Sequential()\n",
        "model.add(Embedding(input_dim = 5000, output_dim = embedding_dimension, input_length = sequence_length))\n",
        "model.add(Bidirectional(LSTM(100)))\n",
        "model.add(Dense(1, activation='sigmoid'))\n",
        "print(model.summary())"
      ],
      "execution_count": 27,
      "outputs": [
        {
          "output_type": "stream",
          "text": [
            "Model: \"sequential_5\"\n",
            "_________________________________________________________________\n",
            "Layer (type)                 Output Shape              Param #   \n",
            "=================================================================\n",
            "embedding_5 (Embedding)      (None, 500, 100)          500000    \n",
            "_________________________________________________________________\n",
            "bidirectional (Bidirectional (None, 200)               160800    \n",
            "_________________________________________________________________\n",
            "dense_6 (Dense)              (None, 1)                 201       \n",
            "=================================================================\n",
            "Total params: 661,001\n",
            "Trainable params: 661,001\n",
            "Non-trainable params: 0\n",
            "_________________________________________________________________\n",
            "None\n"
          ],
          "name": "stdout"
        }
      ]
    },
    {
      "cell_type": "code",
      "metadata": {
        "id": "SeXIZjC6B2p4",
        "colab_type": "code",
        "colab": {}
      },
      "source": [
        "adam = optimizers.Adam(lr = 0.001)\n",
        "model.compile(loss='binary_crossentropy', optimizer=adam , metrics=['accuracy'])"
      ],
      "execution_count": 0,
      "outputs": []
    },
    {
      "cell_type": "code",
      "metadata": {
        "id": "NknrBDI2LnUU",
        "colab_type": "code",
        "colab": {
          "base_uri": "https://localhost:8080/",
          "height": 391
        },
        "outputId": "a0bc3432-f3ac-440d-fa83-2c53f996c168"
      },
      "source": [
        "%%time\n",
        "history = model.fit(X_train, y_train, batch_size = 50, epochs = 10, validation_split = 0.2, verbose = 1)"
      ],
      "execution_count": 29,
      "outputs": [
        {
          "output_type": "stream",
          "text": [
            "Epoch 1/10\n",
            "400/400 [==============================] - 25s 63ms/step - loss: 0.4777 - accuracy: 0.7685 - val_loss: 0.5350 - val_accuracy: 0.7484\n",
            "Epoch 2/10\n",
            "400/400 [==============================] - 24s 61ms/step - loss: 0.3814 - accuracy: 0.8356 - val_loss: 0.3597 - val_accuracy: 0.8466\n",
            "Epoch 3/10\n",
            "400/400 [==============================] - 24s 61ms/step - loss: 0.2671 - accuracy: 0.8932 - val_loss: 0.3248 - val_accuracy: 0.8666\n",
            "Epoch 4/10\n",
            "400/400 [==============================] - 24s 61ms/step - loss: 0.2061 - accuracy: 0.9207 - val_loss: 0.3494 - val_accuracy: 0.8684\n",
            "Epoch 5/10\n",
            "400/400 [==============================] - 24s 61ms/step - loss: 0.1792 - accuracy: 0.9328 - val_loss: 0.3643 - val_accuracy: 0.8486\n",
            "Epoch 6/10\n",
            "400/400 [==============================] - 24s 61ms/step - loss: 0.1679 - accuracy: 0.9397 - val_loss: 0.4011 - val_accuracy: 0.8664\n",
            "Epoch 7/10\n",
            "400/400 [==============================] - 25s 61ms/step - loss: 0.1457 - accuracy: 0.9460 - val_loss: 0.4617 - val_accuracy: 0.8604\n",
            "Epoch 8/10\n",
            "400/400 [==============================] - 24s 61ms/step - loss: 0.1178 - accuracy: 0.9576 - val_loss: 0.4856 - val_accuracy: 0.8540\n",
            "Epoch 9/10\n",
            "400/400 [==============================] - 24s 61ms/step - loss: 0.1030 - accuracy: 0.9630 - val_loss: 0.4870 - val_accuracy: 0.8544\n",
            "Epoch 10/10\n",
            "400/400 [==============================] - 24s 61ms/step - loss: 0.0830 - accuracy: 0.9709 - val_loss: 0.5445 - val_accuracy: 0.8376\n",
            "CPU times: user 3min 11s, sys: 13.1 s, total: 3min 24s\n",
            "Wall time: 4min 8s\n"
          ],
          "name": "stdout"
        }
      ]
    },
    {
      "cell_type": "code",
      "metadata": {
        "id": "oL96G776LnXg",
        "colab_type": "code",
        "colab": {
          "base_uri": "https://localhost:8080/",
          "height": 265
        },
        "outputId": "56cfc3ae-0b0d-49fc-a938-ab52543927df"
      },
      "source": [
        "plt.plot(history.history['accuracy'])\n",
        "plt.plot(history.history['val_accuracy'])\n",
        "plt.legend(['training', 'validation'], loc = 'upper left')\n",
        "plt.show()"
      ],
      "execution_count": 30,
      "outputs": [
        {
          "output_type": "display_data",
          "data": {
            "image/png": "[encoded data removed]",
            "text/plain": [
              "<Figure size 432x288 with 1 Axes>"
            ]
          },
          "metadata": {
            "tags": [],
            "needs_background": "light"
          }
        }
      ]
    },
    {
      "cell_type": "code",
      "metadata": {
        "id": "gLQWfb9FLqcY",
        "colab_type": "code",
        "colab": {
          "base_uri": "https://localhost:8080/",
          "height": 51
        },
        "outputId": "ea471b71-f6a9-4c61-c66d-7c0040282baa"
      },
      "source": [
        "results = model.evaluate(X_test, y_test)\n",
        "print('Test accuracy: ', results[1])"
      ],
      "execution_count": 31,
      "outputs": [
        {
          "output_type": "stream",
          "text": [
            "782/782 [==============================] - 15s 19ms/step - loss: 0.5284 - accuracy: 0.8448\n",
            "Test accuracy:  0.8448399901390076\n"
          ],
          "name": "stdout"
        }
      ]
    },
    {
      "cell_type": "markdown",
      "metadata": {
        "id": "YQFgBaMzB3PF",
        "colab_type": "text"
      },
      "source": [
        "## GRU"
      ]
    },
    {
      "cell_type": "code",
      "metadata": {
        "id": "R7CcPILIM7YI",
        "colab_type": "code",
        "colab": {
          "base_uri": "https://localhost:8080/",
          "height": 326
        },
        "outputId": "0818e6d0-9896-4320-ef15-68eff647e998"
      },
      "source": [
        "model = Sequential()\n",
        "model.add(Embedding(input_dim = 5000, output_dim = embedding_dimension, input_length = sequence_length))\n",
        "model.add(GRU(512, dropout=0.2, recurrent_dropout=0.2))\n",
        "model.add(Dense(500, activation='relu'))\n",
        "model.add(Dense(1, activation='sigmoid'))\n",
        "model.summary()"
      ],
      "execution_count": 32,
      "outputs": [
        {
          "output_type": "stream",
          "text": [
            "WARNING:tensorflow:Layer gru will not use cuDNN kernel since it doesn't meet the cuDNN kernel criteria. It will use generic GPU kernel as fallback when running on GPU\n",
            "Model: \"sequential_6\"\n",
            "_________________________________________________________________\n",
            "Layer (type)                 Output Shape              Param #   \n",
            "=================================================================\n",
            "embedding_6 (Embedding)      (None, 500, 100)          500000    \n",
            "_________________________________________________________________\n",
            "gru (GRU)                    (None, 512)               943104    \n",
            "_________________________________________________________________\n",
            "dense_7 (Dense)              (None, 500)               256500    \n",
            "_________________________________________________________________\n",
            "dense_8 (Dense)              (None, 1)                 501       \n",
            "=================================================================\n",
            "Total params: 1,700,105\n",
            "Trainable params: 1,700,105\n",
            "Non-trainable params: 0\n",
            "_________________________________________________________________\n"
          ],
          "name": "stdout"
        }
      ]
    },
    {
      "cell_type": "code",
      "metadata": {
        "id": "wFk7Mp8gNRBI",
        "colab_type": "code",
        "colab": {}
      },
      "source": [
        "adam = optimizers.Adam(lr = 0.001)\n",
        "model.compile(loss='binary_crossentropy', optimizer=adam , metrics=['accuracy'])"
      ],
      "execution_count": 0,
      "outputs": []
    },
    {
      "cell_type": "code",
      "metadata": {
        "id": "3qNMfUXzNUha",
        "colab_type": "code",
        "colab": {
          "base_uri": "https://localhost:8080/",
          "height": 391
        },
        "outputId": "ab088414-4b26-411c-9e18-4132f4d834e9"
      },
      "source": [
        "%%time\n",
        "history = model.fit(X_train, y_train, batch_size = 50, epochs = 10, validation_split = 0.2, verbose = 1)"
      ],
      "execution_count": 34,
      "outputs": [
        {
          "output_type": "stream",
          "text": [
            "Epoch 1/10\n",
            "400/400 [==============================] - 264s 659ms/step - loss: 0.5555 - accuracy: 0.7031 - val_loss: 0.4420 - val_accuracy: 0.7836\n",
            "Epoch 2/10\n",
            "400/400 [==============================] - 261s 653ms/step - loss: 0.3902 - accuracy: 0.8231 - val_loss: 0.3504 - val_accuracy: 0.8456\n",
            "Epoch 3/10\n",
            "400/400 [==============================] - 261s 652ms/step - loss: 0.2152 - accuracy: 0.9147 - val_loss: 0.2670 - val_accuracy: 0.8866\n",
            "Epoch 4/10\n",
            "400/400 [==============================] - 262s 655ms/step - loss: 0.1531 - accuracy: 0.9428 - val_loss: 0.2930 - val_accuracy: 0.8874\n",
            "Epoch 5/10\n",
            "400/400 [==============================] - 260s 650ms/step - loss: 0.1094 - accuracy: 0.9614 - val_loss: 0.3382 - val_accuracy: 0.8808\n",
            "Epoch 6/10\n",
            "400/400 [==============================] - 262s 655ms/step - loss: 0.0772 - accuracy: 0.9720 - val_loss: 0.4466 - val_accuracy: 0.8720\n",
            "Epoch 7/10\n",
            "400/400 [==============================] - 261s 653ms/step - loss: 0.0624 - accuracy: 0.9783 - val_loss: 0.4474 - val_accuracy: 0.8750\n",
            "Epoch 8/10\n",
            "400/400 [==============================] - 260s 651ms/step - loss: 0.0486 - accuracy: 0.9832 - val_loss: 0.5165 - val_accuracy: 0.8654\n",
            "Epoch 9/10\n",
            "400/400 [==============================] - 262s 655ms/step - loss: 0.0397 - accuracy: 0.9862 - val_loss: 0.5621 - val_accuracy: 0.8580\n",
            "Epoch 10/10\n",
            "400/400 [==============================] - 261s 652ms/step - loss: 0.0296 - accuracy: 0.9894 - val_loss: 0.6182 - val_accuracy: 0.8748\n",
            "CPU times: user 51min 34s, sys: 2min 22s, total: 53min 56s\n",
            "Wall time: 43min 42s\n"
          ],
          "name": "stdout"
        }
      ]
    },
    {
      "cell_type": "code",
      "metadata": {
        "id": "OD7VcyLqNWUT",
        "colab_type": "code",
        "colab": {
          "base_uri": "https://localhost:8080/",
          "height": 267
        },
        "outputId": "9e028fd2-3977-4ea0-a699-52bb19fb3d95"
      },
      "source": [
        "plt.plot(history.history['accuracy'])\n",
        "plt.plot(history.history['val_accuracy'])\n",
        "plt.legend(['training', 'validation'], loc = 'upper left')\n",
        "plt.show()"
      ],
      "execution_count": 35,
      "outputs": [
        {
          "output_type": "display_data",
          "data": {
            "image/png": "[encoded data removed]",
            "text/plain": [
              "<Figure size 432x288 with 1 Axes>"
            ]
          },
          "metadata": {
            "tags": [],
            "needs_background": "light"
          }
        }
      ]
    },
    {
      "cell_type": "code",
      "metadata": {
        "id": "CqaTWdajNXAN",
        "colab_type": "code",
        "colab": {
          "base_uri": "https://localhost:8080/",
          "height": 51
        },
        "outputId": "0ce6b29a-4862-49c2-c78f-37211da47c43"
      },
      "source": [
        "results = model.evaluate(X_test, y_test)\n",
        "print('Test accuracy: ', results[1])"
      ],
      "execution_count": 36,
      "outputs": [
        {
          "output_type": "stream",
          "text": [
            "782/782 [==============================] - 80s 102ms/step - loss: 0.6241 - accuracy: 0.8722\n",
            "Test accuracy:  0.8722400069236755\n"
          ],
          "name": "stdout"
        }
      ]
    },
    {
      "cell_type": "markdown",
      "metadata": {
        "id": "7ueh_qYVz8be",
        "colab_type": "text"
      },
      "source": [
        "## 정리"
      ]
    },
    {
      "cell_type": "markdown",
      "metadata": {
        "id": "pnMxy5_-0B7k",
        "colab_type": "text"
      },
      "source": [
        "1. CNN: 1m 35s / 87%\n",
        "2. SimpleRNN: 17m 7s / 67%\n",
        "3. RNN: 14m 6s / 84%\n",
        "4. LSTM: 2m 24s / 85%\n",
        "5. Bidirectional LSTM: 4m 8s / 84%\n",
        "6. GRU: 43m 42s / 87%"
      ]
    }
  ]
}