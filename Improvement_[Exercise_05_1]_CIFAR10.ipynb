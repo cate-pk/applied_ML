{
  "nbformat": 4,
  "nbformat_minor": 0,
  "metadata": {
    "colab": {
      "name": "Improvement-[Exercise 05-1] CIFAR10.ipynb",
      "provenance": [],
      "collapsed_sections": []
    },
    "kernelspec": {
      "name": "python3",
      "display_name": "Python 3"
    },
    "accelerator": "GPU"
  },
  "cells": [
    {
      "cell_type": "code",
      "metadata": {
        "id": "hAhNucl2Q1UU",
        "colab_type": "code",
        "outputId": "bb07fc5f-5863-41cc-ff8d-8383d1bf3464",
        "colab": {
          "base_uri": "https://localhost:8080/",
          "height": 34
        }
      },
      "source": [
        "%tensorflow_version 2.x\n",
        "\n",
        "from tensorflow.keras.datasets import cifar10\n",
        "(x_train, y_train), (x_test, y_test) = cifar10.load_data()\n",
        "print(x_train.shape, y_train.shape, x_test.shape, y_test.shape)"
      ],
      "execution_count": 1,
      "outputs": [
        {
          "output_type": "stream",
          "text": [
            "(50000, 32, 32, 3) (50000, 1) (10000, 32, 32, 3) (10000, 1)\n"
          ],
          "name": "stdout"
        }
      ]
    },
    {
      "cell_type": "code",
      "metadata": {
        "id": "NYeirJvITce6",
        "colab_type": "code",
        "outputId": "5009754f-9cd8-4174-c7f1-3e3f0fd20d60",
        "colab": {
          "base_uri": "https://localhost:8080/",
          "height": 34
        }
      },
      "source": [
        "from sklearn.preprocessing import OneHotEncoder\n",
        "encoder = OneHotEncoder(sparse=False)\n",
        "y_train = encoder.fit_transform(y_train)\n",
        "y_test = encoder.fit_transform(y_test)\n",
        "print(x_train.shape, y_train.shape, x_test.shape, y_test.shape)"
      ],
      "execution_count": 2,
      "outputs": [
        {
          "output_type": "stream",
          "text": [
            "(50000, 32, 32, 3) (50000, 10) (10000, 32, 32, 3) (10000, 10)\n"
          ],
          "name": "stdout"
        }
      ]
    },
    {
      "cell_type": "code",
      "metadata": {
        "id": "THylf_YfRNtF",
        "colab_type": "code",
        "outputId": "6ffa268d-d027-4947-dea4-9619c4b47d1f",
        "colab": {
          "base_uri": "https://localhost:8080/",
          "height": 34
        }
      },
      "source": [
        "import numpy as np\n",
        "from tensorflow.keras.models import Sequential\n",
        "from tensorflow.keras import optimizers\n",
        "from tensorflow.keras.layers import Dense, Activation, Flatten, Conv2D, MaxPooling2D, AveragePooling2D, GlobalMaxPooling2D, ZeroPadding2D, Input, Dropout, BatchNormalization\n",
        "from tensorflow.keras.models import Model\n",
        "from tensorflow.keras.preprocessing import image\n",
        "from keras.utils.np_utils import to_categorical\n",
        "import matplotlib.pyplot as plt\n",
        "from sklearn import datasets\n",
        "from sklearn.model_selection import train_test_split"
      ],
      "execution_count": 3,
      "outputs": [
        {
          "output_type": "stream",
          "text": [
            "Using TensorFlow backend.\n"
          ],
          "name": "stderr"
        }
      ]
    },
    {
      "cell_type": "markdown",
      "metadata": {
        "id": "GsKhqB0LHIWI",
        "colab_type": "text"
      },
      "source": [
        "## Improvement 적용 전"
      ]
    },
    {
      "cell_type": "code",
      "metadata": {
        "id": "NIBrNpPxGmrx",
        "colab_type": "code",
        "colab": {}
      },
      "source": [
        "# Improvement 적용 전\n",
        "\n",
        "model = Sequential()\n",
        "\n",
        "model.add(Conv2D(input_shape = (32, 32, 3), filters = 30, kernel_size = (3,3), strides = (1,1), padding = 'valid'))\n",
        "# print(model.output_shape)\n",
        "model.add(Activation('relu'))\n",
        "# print(model.output_shape)\n",
        "model.add(MaxPooling2D(pool_size = (2,2)))\n",
        "# print(model.output_shape)\n",
        "\n",
        "model.add(Conv2D(filters = 60, kernel_size = (3,3), strides = (1,1), padding = 'valid'))\n",
        "model.add(Activation('relu'))\n",
        "model.add(MaxPooling2D(pool_size = (2,2)))\n",
        "\n",
        "model.add(Conv2D(filters = 90, kernel_size = (3,3), strides = (1,1), padding = 'valid'))\n",
        "model.add(Activation('relu'))\n",
        "model.add(MaxPooling2D(pool_size = (2,2)))\n",
        "\n",
        "model.add(Flatten())\n",
        "# print(model.output_shape)\n",
        "model.add(Dense(50, activation = 'relu', kernel_initializer='he_normal'))\n",
        "model.add(Dropout(0.2)) \n",
        "# print(model.output_shape)\n",
        "model.add(Dense(10, activation = 'softmax'))\n",
        "# print(model.output_shape)"
      ],
      "execution_count": 0,
      "outputs": []
    },
    {
      "cell_type": "code",
      "metadata": {
        "id": "nC8k4KIdGzsU",
        "colab_type": "code",
        "colab": {
          "base_uri": "https://localhost:8080/",
          "height": 595
        },
        "outputId": "b93aae71-0880-45cc-be2a-64be79d4236f"
      },
      "source": [
        "model.summary()"
      ],
      "execution_count": 15,
      "outputs": [
        {
          "output_type": "stream",
          "text": [
            "Model: \"sequential_2\"\n",
            "_________________________________________________________________\n",
            "Layer (type)                 Output Shape              Param #   \n",
            "=================================================================\n",
            "conv2d_7 (Conv2D)            (None, 30, 30, 30)        840       \n",
            "_________________________________________________________________\n",
            "activation_7 (Activation)    (None, 30, 30, 30)        0         \n",
            "_________________________________________________________________\n",
            "max_pooling2d_7 (MaxPooling2 (None, 15, 15, 30)        0         \n",
            "_________________________________________________________________\n",
            "conv2d_8 (Conv2D)            (None, 13, 13, 60)        16260     \n",
            "_________________________________________________________________\n",
            "activation_8 (Activation)    (None, 13, 13, 60)        0         \n",
            "_________________________________________________________________\n",
            "max_pooling2d_8 (MaxPooling2 (None, 6, 6, 60)          0         \n",
            "_________________________________________________________________\n",
            "conv2d_9 (Conv2D)            (None, 4, 4, 90)          48690     \n",
            "_________________________________________________________________\n",
            "activation_9 (Activation)    (None, 4, 4, 90)          0         \n",
            "_________________________________________________________________\n",
            "max_pooling2d_9 (MaxPooling2 (None, 2, 2, 90)          0         \n",
            "_________________________________________________________________\n",
            "flatten_2 (Flatten)          (None, 360)               0         \n",
            "_________________________________________________________________\n",
            "dense_7 (Dense)              (None, 50)                18050     \n",
            "_________________________________________________________________\n",
            "dropout_7 (Dropout)          (None, 50)                0         \n",
            "_________________________________________________________________\n",
            "dense_8 (Dense)              (None, 10)                510       \n",
            "=================================================================\n",
            "Total params: 84,350\n",
            "Trainable params: 84,350\n",
            "Non-trainable params: 0\n",
            "_________________________________________________________________\n"
          ],
          "name": "stdout"
        }
      ]
    },
    {
      "cell_type": "code",
      "metadata": {
        "id": "rLb7gOfpG30B",
        "colab_type": "code",
        "colab": {}
      },
      "source": [
        "adam = optimizers.Adam(lr = 0.001)\n",
        "model.compile(loss = 'categorical_crossentropy', optimizer = adam, metrics = ['accuracy'])"
      ],
      "execution_count": 0,
      "outputs": []
    },
    {
      "cell_type": "code",
      "metadata": {
        "id": "KjyBDAyNG7La",
        "colab_type": "code",
        "colab": {
          "base_uri": "https://localhost:8080/",
          "height": 1000
        },
        "outputId": "8cb163d3-c256-43a0-809e-a20d3e7b026c"
      },
      "source": [
        "history = model.fit(x_train, y_train, batch_size = 50, validation_split = 0.2, epochs = 30, verbose = 1)"
      ],
      "execution_count": 17,
      "outputs": [
        {
          "output_type": "stream",
          "text": [
            "Epoch 1/30\n",
            "800/800 [==============================] - 4s 5ms/step - loss: 2.1666 - accuracy: 0.2464 - val_loss: 1.7099 - val_accuracy: 0.3474\n",
            "Epoch 2/30\n",
            "800/800 [==============================] - 4s 4ms/step - loss: 1.6516 - accuracy: 0.3799 - val_loss: 1.4936 - val_accuracy: 0.4476\n",
            "Epoch 3/30\n",
            "800/800 [==============================] - 4s 5ms/step - loss: 1.4934 - accuracy: 0.4461 - val_loss: 1.3582 - val_accuracy: 0.5139\n",
            "Epoch 4/30\n",
            "800/800 [==============================] - 4s 5ms/step - loss: 1.3717 - accuracy: 0.5005 - val_loss: 1.3118 - val_accuracy: 0.5283\n",
            "Epoch 5/30\n",
            "800/800 [==============================] - 4s 5ms/step - loss: 1.2765 - accuracy: 0.5382 - val_loss: 1.1896 - val_accuracy: 0.5731\n",
            "Epoch 6/30\n",
            "800/800 [==============================] - 4s 4ms/step - loss: 1.1843 - accuracy: 0.5763 - val_loss: 1.2562 - val_accuracy: 0.5498\n",
            "Epoch 7/30\n",
            "800/800 [==============================] - 4s 4ms/step - loss: 1.1271 - accuracy: 0.6035 - val_loss: 1.0833 - val_accuracy: 0.6244\n",
            "Epoch 8/30\n",
            "800/800 [==============================] - 4s 4ms/step - loss: 1.0652 - accuracy: 0.6213 - val_loss: 1.0831 - val_accuracy: 0.6257\n",
            "Epoch 9/30\n",
            "800/800 [==============================] - 4s 4ms/step - loss: 1.0099 - accuracy: 0.6429 - val_loss: 1.1020 - val_accuracy: 0.6273\n",
            "Epoch 10/30\n",
            "800/800 [==============================] - 4s 4ms/step - loss: 0.9593 - accuracy: 0.6618 - val_loss: 1.0554 - val_accuracy: 0.6337\n",
            "Epoch 11/30\n",
            "800/800 [==============================] - 4s 4ms/step - loss: 0.9126 - accuracy: 0.6797 - val_loss: 1.0387 - val_accuracy: 0.6475\n",
            "Epoch 12/30\n",
            "800/800 [==============================] - 4s 4ms/step - loss: 0.8726 - accuracy: 0.6934 - val_loss: 1.0326 - val_accuracy: 0.6588\n",
            "Epoch 13/30\n",
            "800/800 [==============================] - 4s 4ms/step - loss: 0.8559 - accuracy: 0.7009 - val_loss: 1.0790 - val_accuracy: 0.6461\n",
            "Epoch 14/30\n",
            "800/800 [==============================] - 4s 4ms/step - loss: 0.8136 - accuracy: 0.7135 - val_loss: 1.0673 - val_accuracy: 0.6545\n",
            "Epoch 15/30\n",
            "800/800 [==============================] - 4s 4ms/step - loss: 0.7824 - accuracy: 0.7261 - val_loss: 1.0845 - val_accuracy: 0.6542\n",
            "Epoch 16/30\n",
            "800/800 [==============================] - 4s 4ms/step - loss: 0.7535 - accuracy: 0.7339 - val_loss: 1.0718 - val_accuracy: 0.6632\n",
            "Epoch 17/30\n",
            "800/800 [==============================] - 4s 4ms/step - loss: 0.7201 - accuracy: 0.7479 - val_loss: 1.0553 - val_accuracy: 0.6688\n",
            "Epoch 18/30\n",
            "800/800 [==============================] - 3s 4ms/step - loss: 0.6987 - accuracy: 0.7536 - val_loss: 1.1174 - val_accuracy: 0.6564\n",
            "Epoch 19/30\n",
            "800/800 [==============================] - 3s 4ms/step - loss: 0.6856 - accuracy: 0.7594 - val_loss: 1.1144 - val_accuracy: 0.6674\n",
            "Epoch 20/30\n",
            "800/800 [==============================] - 3s 4ms/step - loss: 0.6512 - accuracy: 0.7703 - val_loss: 1.1089 - val_accuracy: 0.6639\n",
            "Epoch 21/30\n",
            "800/800 [==============================] - 4s 4ms/step - loss: 0.6482 - accuracy: 0.7734 - val_loss: 1.1433 - val_accuracy: 0.6609\n",
            "Epoch 22/30\n",
            "800/800 [==============================] - 4s 4ms/step - loss: 0.6269 - accuracy: 0.7791 - val_loss: 1.1367 - val_accuracy: 0.6702\n",
            "Epoch 23/30\n",
            "800/800 [==============================] - 3s 4ms/step - loss: 0.6173 - accuracy: 0.7824 - val_loss: 1.1549 - val_accuracy: 0.6658\n",
            "Epoch 24/30\n",
            "800/800 [==============================] - 3s 4ms/step - loss: 0.5921 - accuracy: 0.7918 - val_loss: 1.1419 - val_accuracy: 0.6674\n",
            "Epoch 25/30\n",
            "800/800 [==============================] - 3s 4ms/step - loss: 0.5748 - accuracy: 0.7995 - val_loss: 1.2155 - val_accuracy: 0.6647\n",
            "Epoch 26/30\n",
            "800/800 [==============================] - 4s 4ms/step - loss: 0.5495 - accuracy: 0.8075 - val_loss: 1.2519 - val_accuracy: 0.6625\n",
            "Epoch 27/30\n",
            "800/800 [==============================] - 3s 4ms/step - loss: 0.5441 - accuracy: 0.8089 - val_loss: 1.2807 - val_accuracy: 0.6684\n",
            "Epoch 28/30\n",
            "800/800 [==============================] - 4s 4ms/step - loss: 0.5255 - accuracy: 0.8156 - val_loss: 1.2756 - val_accuracy: 0.6715\n",
            "Epoch 29/30\n",
            "800/800 [==============================] - 3s 4ms/step - loss: 0.5206 - accuracy: 0.8176 - val_loss: 1.3023 - val_accuracy: 0.6630\n",
            "Epoch 30/30\n",
            "800/800 [==============================] - 3s 4ms/step - loss: 0.5109 - accuracy: 0.8207 - val_loss: 1.3058 - val_accuracy: 0.6674\n"
          ],
          "name": "stdout"
        }
      ]
    },
    {
      "cell_type": "code",
      "metadata": {
        "id": "JxrISLJIG9RK",
        "colab_type": "code",
        "colab": {
          "base_uri": "https://localhost:8080/",
          "height": 265
        },
        "outputId": "0b398a38-e6e7-4d7b-e293-512907f07ed4"
      },
      "source": [
        "plt.plot(history.history['accuracy'])\n",
        "plt.plot(history.history['val_accuracy'])\n",
        "plt.legend(['training', 'validation'], loc = 'lower right')\n",
        "plt.show()"
      ],
      "execution_count": 18,
      "outputs": [
        {
          "output_type": "display_data",
          "data": {
            "image/png": "[encoded data removed]",
            "text/plain": [
              "<Figure size 432x288 with 1 Axes>"
            ]
          },
          "metadata": {
            "tags": [],
            "needs_background": "light"
          }
        }
      ]
    },
    {
      "cell_type": "code",
      "metadata": {
        "id": "60rZIuZyG_4j",
        "colab_type": "code",
        "colab": {
          "base_uri": "https://localhost:8080/",
          "height": 68
        },
        "outputId": "1b034f76-1852-4f1f-cb24-37bb73148b87"
      },
      "source": [
        "results = model.evaluate(x_test, y_test)\n",
        "\n",
        "print('loss: ', results[0])\n",
        "print('accuracy: ', results[1])"
      ],
      "execution_count": 19,
      "outputs": [
        {
          "output_type": "stream",
          "text": [
            "313/313 [==============================] - 1s 2ms/step - loss: 1.3144 - accuracy: 0.6617\n",
            "loss:  1.3144137859344482\n",
            "accuracy:  0.6617000102996826\n"
          ],
          "name": "stdout"
        }
      ]
    },
    {
      "cell_type": "markdown",
      "metadata": {
        "id": "AnJ85QrOHCiZ",
        "colab_type": "text"
      },
      "source": [
        "## Improvement 적용 후"
      ]
    },
    {
      "cell_type": "code",
      "metadata": {
        "id": "EJ1N9KoWR8wl",
        "colab_type": "code",
        "colab": {
          "base_uri": "https://localhost:8080/",
          "height": 34
        },
        "outputId": "28ccb4ac-7084-4f40-c71e-9af164cc51f2"
      },
      "source": [
        "# Improvement 적용 후\n",
        "\n",
        "model = Sequential()\n",
        "\n",
        "model.add(Conv2D(input_shape = (32, 32, 3), filters = 64, kernel_size = (3,3), \n",
        "                 strides = (1,1), padding = 'same', kernel_initializer = 'he_normal'))\n",
        "model.add(BatchNormalization())\n",
        "model.add(Activation('relu'))\n",
        "model.add(MaxPooling2D(pool_size = (2,2)))\n",
        "\n",
        "model.add(Conv2D(filters = 128, kernel_size = (3,3), strides = (1,1), padding = 'same'))\n",
        "model.add(BatchNormalization())\n",
        "model.add(Activation('relu'))\n",
        "model.add(MaxPooling2D(pool_size = (2,2)))\n",
        "\n",
        "model.add(Conv2D(filters = 256, kernel_size = (3,3), strides = (1,1), padding = 'same'))\n",
        "model.add(BatchNormalization())\n",
        "model.add(Activation('relu'))\n",
        "model.add(Dropout(0.2)) \n",
        "model.add(MaxPooling2D(pool_size = (2,2)))\n",
        "\n",
        "model.add(Conv2D(filters = 512, kernel_size = (3,3), \n",
        "                 strides = (1,1), padding = 'same', kernel_initializer = 'he_normal'))\n",
        "model.add(BatchNormalization())\n",
        "model.add(Dropout(0.2)) \n",
        "model.add(Activation('relu'))\n",
        "model.add(MaxPooling2D(pool_size = (2,2)))\n",
        "\n",
        "'''model.add(Conv2D(filters = 1024, kernel_size = (3,3), \n",
        "                 strides = (1,1), padding = 'same', kernel_initializer = 'he_normal'))\n",
        "model.add(BatchNormalization())\n",
        "model.add(Dropout(0.2)) \n",
        "model.add(Activation('relu'))\n",
        "model.add(MaxPooling2D(pool_size = (2,2)))'''\n",
        "\n",
        "'''model.add(Conv2D(filters = 32, kernel_size = (1,1), \n",
        "                 strides = (1,1), padding = 'same', kernel_initializer = 'he_normal'))\n",
        "model.add(BatchNormalization())\n",
        "model.add(Activation('relu'))\n",
        "model.add(Dropout(0.2)) \n",
        "model.add(MaxPooling2D(pool_size = (2,2)))'''\n",
        "\n",
        "model.add(Flatten())\n",
        "\n",
        "model.add(Dense(512, activation = 'relu', kernel_initializer='he_normal'))\n",
        "model.add(BatchNormalization())\n",
        "model.add(Dropout(0.2)) \n",
        "\n",
        "model.add(Dense(256, activation = 'relu', kernel_initializer='he_normal'))\n",
        "model.add(BatchNormalization())\n",
        "model.add(Dropout(0.5)) \n",
        "\n",
        "model.add(Dense(128, activation = 'relu', kernel_initializer='he_normal'))\n",
        "model.add(BatchNormalization())\n",
        "model.add(Dropout(0.5)) \n",
        "\n",
        "model.add(Dense(64, activation = 'relu', kernel_initializer='he_normal'))\n",
        "model.add(BatchNormalization())\n",
        "model.add(Dropout(0.2)) \n",
        "\n",
        "model.add(Dense(10, activation = 'softmax', kernel_initializer='he_normal'))\n",
        "print(model.output_shape)"
      ],
      "execution_count": 20,
      "outputs": [
        {
          "output_type": "stream",
          "text": [
            "(None, 10)\n"
          ],
          "name": "stdout"
        }
      ]
    },
    {
      "cell_type": "code",
      "metadata": {
        "id": "05kLyov6VWed",
        "colab_type": "code",
        "outputId": "8d8007b2-1651-40b2-914a-6bbfc34cc460",
        "colab": {
          "base_uri": "https://localhost:8080/",
          "height": 1000
        }
      },
      "source": [
        "model.summary()"
      ],
      "execution_count": 21,
      "outputs": [
        {
          "output_type": "stream",
          "text": [
            "Model: \"sequential_3\"\n",
            "_________________________________________________________________\n",
            "Layer (type)                 Output Shape              Param #   \n",
            "=================================================================\n",
            "conv2d_10 (Conv2D)           (None, 32, 32, 64)        1792      \n",
            "_________________________________________________________________\n",
            "batch_normalization_8 (Batch (None, 32, 32, 64)        256       \n",
            "_________________________________________________________________\n",
            "activation_10 (Activation)   (None, 32, 32, 64)        0         \n",
            "_________________________________________________________________\n",
            "max_pooling2d_10 (MaxPooling (None, 16, 16, 64)        0         \n",
            "_________________________________________________________________\n",
            "conv2d_11 (Conv2D)           (None, 16, 16, 128)       73856     \n",
            "_________________________________________________________________\n",
            "batch_normalization_9 (Batch (None, 16, 16, 128)       512       \n",
            "_________________________________________________________________\n",
            "activation_11 (Activation)   (None, 16, 16, 128)       0         \n",
            "_________________________________________________________________\n",
            "max_pooling2d_11 (MaxPooling (None, 8, 8, 128)         0         \n",
            "_________________________________________________________________\n",
            "conv2d_12 (Conv2D)           (None, 8, 8, 256)         295168    \n",
            "_________________________________________________________________\n",
            "batch_normalization_10 (Batc (None, 8, 8, 256)         1024      \n",
            "_________________________________________________________________\n",
            "activation_12 (Activation)   (None, 8, 8, 256)         0         \n",
            "_________________________________________________________________\n",
            "dropout_8 (Dropout)          (None, 8, 8, 256)         0         \n",
            "_________________________________________________________________\n",
            "max_pooling2d_12 (MaxPooling (None, 4, 4, 256)         0         \n",
            "_________________________________________________________________\n",
            "conv2d_13 (Conv2D)           (None, 4, 4, 512)         1180160   \n",
            "_________________________________________________________________\n",
            "batch_normalization_11 (Batc (None, 4, 4, 512)         2048      \n",
            "_________________________________________________________________\n",
            "dropout_9 (Dropout)          (None, 4, 4, 512)         0         \n",
            "_________________________________________________________________\n",
            "activation_13 (Activation)   (None, 4, 4, 512)         0         \n",
            "_________________________________________________________________\n",
            "max_pooling2d_13 (MaxPooling (None, 2, 2, 512)         0         \n",
            "_________________________________________________________________\n",
            "flatten_3 (Flatten)          (None, 2048)              0         \n",
            "_________________________________________________________________\n",
            "dense_9 (Dense)              (None, 512)               1049088   \n",
            "_________________________________________________________________\n",
            "batch_normalization_12 (Batc (None, 512)               2048      \n",
            "_________________________________________________________________\n",
            "dropout_10 (Dropout)         (None, 512)               0         \n",
            "_________________________________________________________________\n",
            "dense_10 (Dense)             (None, 256)               131328    \n",
            "_________________________________________________________________\n",
            "batch_normalization_13 (Batc (None, 256)               1024      \n",
            "_________________________________________________________________\n",
            "dropout_11 (Dropout)         (None, 256)               0         \n",
            "_________________________________________________________________\n",
            "dense_11 (Dense)             (None, 128)               32896     \n",
            "_________________________________________________________________\n",
            "batch_normalization_14 (Batc (None, 128)               512       \n",
            "_________________________________________________________________\n",
            "dropout_12 (Dropout)         (None, 128)               0         \n",
            "_________________________________________________________________\n",
            "dense_12 (Dense)             (None, 64)                8256      \n",
            "_________________________________________________________________\n",
            "batch_normalization_15 (Batc (None, 64)                256       \n",
            "_________________________________________________________________\n",
            "dropout_13 (Dropout)         (None, 64)                0         \n",
            "_________________________________________________________________\n",
            "dense_13 (Dense)             (None, 10)                650       \n",
            "=================================================================\n",
            "Total params: 2,780,874\n",
            "Trainable params: 2,777,034\n",
            "Non-trainable params: 3,840\n",
            "_________________________________________________________________\n"
          ],
          "name": "stdout"
        }
      ]
    },
    {
      "cell_type": "code",
      "metadata": {
        "id": "ENvjcHI4R_5_",
        "colab_type": "code",
        "colab": {}
      },
      "source": [
        "adam = optimizers.Adam(lr = 0.001)\n",
        "model.compile(loss = 'categorical_crossentropy', optimizer = adam, metrics = ['accuracy'])"
      ],
      "execution_count": 0,
      "outputs": []
    },
    {
      "cell_type": "code",
      "metadata": {
        "id": "kvFUj7jASCaF",
        "colab_type": "code",
        "outputId": "f4ab2dc3-fd5d-4171-8c01-4c2cc28dff57",
        "colab": {
          "base_uri": "https://localhost:8080/",
          "height": 697
        }
      },
      "source": [
        "history = model.fit(x_train, y_train, batch_size = 50, validation_split = 0.2, epochs = 20, verbose = 1)"
      ],
      "execution_count": 23,
      "outputs": [
        {
          "output_type": "stream",
          "text": [
            "Epoch 1/20\n",
            "800/800 [==============================] - 13s 16ms/step - loss: 1.7783 - accuracy: 0.3627 - val_loss: 1.4447 - val_accuracy: 0.4694\n",
            "Epoch 2/20\n",
            "800/800 [==============================] - 12s 15ms/step - loss: 1.2487 - accuracy: 0.5566 - val_loss: 1.1351 - val_accuracy: 0.5944\n",
            "Epoch 3/20\n",
            "800/800 [==============================] - 12s 16ms/step - loss: 1.0460 - accuracy: 0.6378 - val_loss: 1.0057 - val_accuracy: 0.6346\n",
            "Epoch 4/20\n",
            "800/800 [==============================] - 12s 16ms/step - loss: 0.9100 - accuracy: 0.6907 - val_loss: 0.9987 - val_accuracy: 0.6515\n",
            "Epoch 5/20\n",
            "800/800 [==============================] - 12s 16ms/step - loss: 0.8063 - accuracy: 0.7311 - val_loss: 1.0890 - val_accuracy: 0.6288\n",
            "Epoch 6/20\n",
            "800/800 [==============================] - 12s 16ms/step - loss: 0.7250 - accuracy: 0.7609 - val_loss: 0.7836 - val_accuracy: 0.7285\n",
            "Epoch 7/20\n",
            "800/800 [==============================] - 12s 16ms/step - loss: 0.6582 - accuracy: 0.7818 - val_loss: 0.7483 - val_accuracy: 0.7423\n",
            "Epoch 8/20\n",
            "800/800 [==============================] - 12s 16ms/step - loss: 0.5889 - accuracy: 0.8084 - val_loss: 0.9334 - val_accuracy: 0.6880\n",
            "Epoch 9/20\n",
            "800/800 [==============================] - 12s 16ms/step - loss: 0.5307 - accuracy: 0.8285 - val_loss: 1.0477 - val_accuracy: 0.6805\n",
            "Epoch 10/20\n",
            "800/800 [==============================] - 12s 16ms/step - loss: 0.4761 - accuracy: 0.8446 - val_loss: 0.7664 - val_accuracy: 0.7519\n",
            "Epoch 11/20\n",
            "800/800 [==============================] - 12s 16ms/step - loss: 0.4174 - accuracy: 0.8648 - val_loss: 1.0112 - val_accuracy: 0.6950\n",
            "Epoch 12/20\n",
            "800/800 [==============================] - 12s 16ms/step - loss: 0.3764 - accuracy: 0.8790 - val_loss: 0.6687 - val_accuracy: 0.7858\n",
            "Epoch 13/20\n",
            "800/800 [==============================] - 13s 16ms/step - loss: 0.3329 - accuracy: 0.8935 - val_loss: 0.8542 - val_accuracy: 0.7476\n",
            "Epoch 14/20\n",
            "800/800 [==============================] - 12s 16ms/step - loss: 0.3055 - accuracy: 0.9031 - val_loss: 0.7108 - val_accuracy: 0.7873\n",
            "Epoch 15/20\n",
            "800/800 [==============================] - 13s 16ms/step - loss: 0.2734 - accuracy: 0.9137 - val_loss: 0.6529 - val_accuracy: 0.8002\n",
            "Epoch 16/20\n",
            "800/800 [==============================] - 13s 16ms/step - loss: 0.2419 - accuracy: 0.9219 - val_loss: 0.7434 - val_accuracy: 0.7805\n",
            "Epoch 17/20\n",
            "800/800 [==============================] - 13s 16ms/step - loss: 0.2195 - accuracy: 0.9297 - val_loss: 0.7419 - val_accuracy: 0.7897\n",
            "Epoch 18/20\n",
            "800/800 [==============================] - 13s 16ms/step - loss: 0.2018 - accuracy: 0.9350 - val_loss: 0.7117 - val_accuracy: 0.8049\n",
            "Epoch 19/20\n",
            "800/800 [==============================] - 13s 16ms/step - loss: 0.1823 - accuracy: 0.9418 - val_loss: 0.6817 - val_accuracy: 0.8082\n",
            "Epoch 20/20\n",
            "800/800 [==============================] - 13s 16ms/step - loss: 0.1683 - accuracy: 0.9467 - val_loss: 0.7438 - val_accuracy: 0.7999\n"
          ],
          "name": "stdout"
        }
      ]
    },
    {
      "cell_type": "code",
      "metadata": {
        "id": "BL0B2xT0SFWs",
        "colab_type": "code",
        "outputId": "33e8012e-d6d5-47f8-f738-df43c928560e",
        "colab": {
          "base_uri": "https://localhost:8080/",
          "height": 265
        }
      },
      "source": [
        "plt.plot(history.history['accuracy'])\n",
        "plt.plot(history.history['val_accuracy'])\n",
        "plt.legend(['training', 'validation'], loc = 'lower right')\n",
        "plt.show()"
      ],
      "execution_count": 24,
      "outputs": [
        {
          "output_type": "display_data",
          "data": {
            "image/png": "[encoded data removed]",
            "text/plain": [
              "<Figure size 432x288 with 1 Axes>"
            ]
          },
          "metadata": {
            "tags": [],
            "needs_background": "light"
          }
        }
      ]
    },
    {
      "cell_type": "code",
      "metadata": {
        "id": "qpHVPVTuSJYj",
        "colab_type": "code",
        "outputId": "cc6c2f2f-c9c8-4f6c-b86a-1aeb2cc64e8d",
        "colab": {
          "base_uri": "https://localhost:8080/",
          "height": 68
        }
      },
      "source": [
        "results = model.evaluate(x_test, y_test)\n",
        "\n",
        "print('loss: ', results[0])\n",
        "print('accuracy: ', results[1])"
      ],
      "execution_count": 25,
      "outputs": [
        {
          "output_type": "stream",
          "text": [
            "313/313 [==============================] - 1s 5ms/step - loss: 0.7693 - accuracy: 0.7916\n",
            "loss:  0.7692796587944031\n",
            "accuracy:  0.7915999889373779\n"
          ],
          "name": "stdout"
        }
      ]
    },
    {
      "cell_type": "markdown",
      "metadata": {
        "id": "mnSU7wDHdGOq",
        "colab_type": "text"
      },
      "source": [
        "[요약]\n",
        "여러 Improvement technique 적용으로 예측 정확성을 66% 에서 79% 까지 끌어올릴 수 있었다.\n",
        "\n",
        "<사용된 기법>\n",
        "- kernel_initializer\n",
        "- BatchNormalization\n",
        "- Dropout\n",
        "- NIN"
      ]
    }
  ]
}