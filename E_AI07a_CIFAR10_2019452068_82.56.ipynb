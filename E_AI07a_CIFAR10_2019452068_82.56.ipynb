{
  "nbformat": 4,
  "nbformat_minor": 0,
  "metadata": {
    "accelerator": "GPU",
    "colab": {
      "name": "E_AI07a_CIFAR10_2019452068.ipynb",
      "provenance": [],
      "collapsed_sections": [],
      "toc_visible": true
    },
    "kernelspec": {
      "display_name": "Python 3",
      "language": "python",
      "name": "python3"
    },
    "language_info": {
      "codemirror_mode": {
        "name": "ipython",
        "version": 3
      },
      "file_extension": ".py",
      "mimetype": "text/x-python",
      "name": "python",
      "nbconvert_exporter": "python",
      "pygments_lexer": "ipython3",
      "version": "3.6.7"
    }
  },
  "cells": [
    {
      "cell_type": "markdown",
      "metadata": {
        "colab_type": "text",
        "id": "Mq3nlbXA-Mjz"
      },
      "source": [
        "# E_AI 07a CIFAR-10\n",
        "\n",
        "\n",
        "---\n",
        "\n",
        "CIFAR-10 이미지 데이터셋은 50,000개의 훈련 데이터와 \n",
        "\n",
        "10,000개의 시험 데이터로 이루어져 있습니다.\n",
        "\n",
        "제시된 SimpleCNN 모델을 수정하여 성능을 향상시켜보고\n",
        "\n",
        "시험 데이터에 대한 예측값을 Kaggle에 csv파일로 제출하세요.\n",
        "\n",
        "Kaggle submit: https://www.kaggle.com/t/eea9ccc5de0e41e49bdc50d0a45a40b2\n",
        "\n",
        "---\n",
        "\n",
        "> 학번: 2019452068\n",
        ">\n",
        "> 이름: 박규선\n",
        "\n"
      ]
    },
    {
      "cell_type": "markdown",
      "metadata": {
        "colab_type": "text",
        "id": "_L80Wp4C_Omg"
      },
      "source": [
        "### Import packages\n",
        "---"
      ]
    },
    {
      "cell_type": "code",
      "metadata": {
        "colab_type": "code",
        "id": "JZxvpsbK_KPA",
        "colab": {}
      },
      "source": [
        "# MNIST와 달리 channel 이 3개라는 것\n",
        "\n",
        "import numpy as np\n",
        "import matplotlib.pyplot as plt\n",
        "\n",
        "import torch\n",
        "import torch.nn as nn\n",
        "import torchvision\n",
        "import torchvision.transforms as T\n"
      ],
      "execution_count": 0,
      "outputs": []
    },
    {
      "cell_type": "markdown",
      "metadata": {
        "colab_type": "text",
        "id": "xsT5BKapQ82k"
      },
      "source": [
        "### Setup a device"
      ]
    },
    {
      "cell_type": "code",
      "metadata": {
        "colab_type": "code",
        "id": "yFAX7zz4Q7TW",
        "outputId": "ce4b5d28-debf-4b7a-d786-7f00e5e274e1",
        "colab": {
          "base_uri": "https://localhost:8080/",
          "height": 34
        }
      },
      "source": [
        "# Device configuration\n",
        "\n",
        "if torch.cuda.is_available():\n",
        "    device = torch.device('cuda')\n",
        "else:\n",
        "    device = torch.device('cpu')\n",
        "\n",
        "print('device:', device)"
      ],
      "execution_count": 125,
      "outputs": [
        {
          "output_type": "stream",
          "text": [
            "device: cuda\n"
          ],
          "name": "stdout"
        }
      ]
    },
    {
      "cell_type": "markdown",
      "metadata": {
        "colab_type": "text",
        "id": "U64W-Kim_QuZ"
      },
      "source": [
        "### Hyperparameters\n",
        "---\n"
      ]
    },
    {
      "cell_type": "code",
      "metadata": {
        "colab_type": "code",
        "id": "FtKz3gmF_NTT",
        "colab": {}
      },
      "source": [
        "batch_size = 300 #1000\n",
        "learning_rate = 0.001 #0.02\n",
        "num_epochs = 15 #10"
      ],
      "execution_count": 0,
      "outputs": []
    },
    {
      "cell_type": "markdown",
      "metadata": {
        "colab_type": "text",
        "id": "1sHv9t9eBxdo"
      },
      "source": [
        "### Load dataset\n",
        "---"
      ]
    },
    {
      "cell_type": "code",
      "metadata": {
        "colab_type": "code",
        "id": "vZgdPtMKB2kP",
        "outputId": "54e956f8-fc24-4731-dd8f-f41684e22fb1",
        "colab": {
          "base_uri": "https://localhost:8080/",
          "height": 51
        }
      },
      "source": [
        "classes = ('plane', 'car', 'bird', 'cat', 'deer',\n",
        "           'dog', 'frog', 'horse', 'ship', 'truck')\n",
        "\n",
        "transform = T.Compose( [T.ToTensor(), \n",
        "                        T.Normalize((0.5, 0.5, 0.5), (0.5, 0.5, 0.5))] )\n",
        "\n",
        "# CIFAR10 dataset\n",
        "train_dataset = torchvision.datasets.CIFAR10('./cifar10_data', \n",
        "                                             train=True, download=True, \n",
        "                                             transform=transform )\n",
        "test_dataset = torchvision.datasets.CIFAR10('./cifar10_data', \n",
        "                                            train=False, download=True, \n",
        "                                            transform=transform )\n",
        "\n",
        "# Data loader\n",
        "train_loader = torch.utils.data.DataLoader(train_dataset, \n",
        "                                           batch_size=batch_size, shuffle=True)\n",
        "test_loader = torch.utils.data.DataLoader(test_dataset, \n",
        "                                          batch_size=batch_size, shuffle=False)\n"
      ],
      "execution_count": 147,
      "outputs": [
        {
          "output_type": "stream",
          "text": [
            "Files already downloaded and verified\n",
            "Files already downloaded and verified\n"
          ],
          "name": "stdout"
        }
      ]
    },
    {
      "cell_type": "code",
      "metadata": {
        "colab_type": "code",
        "id": "7YmtRUX2Chc-",
        "outputId": "32e62f59-8e7a-488c-b1f1-3dc57838a7bc",
        "colab": {
          "base_uri": "https://localhost:8080/",
          "height": 51
        }
      },
      "source": [
        "print(train_dataset.data.shape)\n",
        "print(test_dataset.data.shape)"
      ],
      "execution_count": 148,
      "outputs": [
        {
          "output_type": "stream",
          "text": [
            "(50000, 32, 32, 3)\n",
            "(10000, 32, 32, 3)\n"
          ],
          "name": "stdout"
        }
      ]
    },
    {
      "cell_type": "markdown",
      "metadata": {
        "colab_type": "text",
        "id": "kCfqFuEOsk_C"
      },
      "source": [
        "### Preview the data \n",
        "---"
      ]
    },
    {
      "cell_type": "code",
      "metadata": {
        "colab_type": "code",
        "id": "zGc-5cV9s0V0",
        "outputId": "ab853b72-ac92-4c1e-e443-f5f306e8494e",
        "colab": {
          "base_uri": "https://localhost:8080/",
          "height": 130
        }
      },
      "source": [
        "import matplotlib.pyplot as plt\n",
        "import numpy as np\n",
        "\n",
        "def convert_to_imshow_format(image):\n",
        "    # first convert back to [0,1] range from [-1,1] range\n",
        "    image = image / 2 + 0.5\n",
        "    image = image.numpy()\n",
        "    # convert from CHW to HWC\n",
        "    # from 3x32x32 to 32x32x3\n",
        "    return image.transpose(1,2,0)\n",
        "\n",
        "dataiter = iter(train_loader)\n",
        "images, labels = dataiter.next()\n",
        "\n",
        "images = images[:6]\n",
        "labels = labels[:6]\n",
        "\n",
        "fig, axes = plt.subplots(1, len(images), figsize=(10,2.5))\n",
        "for idx, image in enumerate(images):\n",
        "    axes[idx].imshow(convert_to_imshow_format(image))\n",
        "    axes[idx].set_title(classes[labels[idx]])\n",
        "    axes[idx].set_xticks([])\n",
        "    axes[idx].set_yticks([])"
      ],
      "execution_count": 149,
      "outputs": [
        {
          "output_type": "display_data",
          "data": {
            "image/png": "[encoded data removed]",
            "text/plain": [
              "<Figure size 720x180 with 6 Axes>"
            ]
          },
          "metadata": {
            "tags": []
          }
        }
      ]
    },
    {
      "cell_type": "markdown",
      "metadata": {
        "colab_type": "text",
        "id": "xig9mBcUQec8"
      },
      "source": [
        "### Progress monitor\n",
        "---"
      ]
    },
    {
      "cell_type": "code",
      "metadata": {
        "colab_type": "code",
        "id": "IMrkSUyKQuaC",
        "colab": {}
      },
      "source": [
        "from IPython.display import HTML, display\n",
        "\n",
        "\n",
        "# Custom IPython progress bar for training\n",
        "class ProgressMonitor(object):\n",
        "    \n",
        "    tmpl = \"\"\"\n",
        "        <table style=\"width: 100%;\">\n",
        "            <tbody>\n",
        "                <tr>\n",
        "                    <td style=\"width: 30%;\">\n",
        "                     <b>Loss: {loss:0.4f}</b> &nbsp&nbsp&nbsp {value} / {length}\n",
        "                    </td>\n",
        "                    <td style=\"width: 70%;\">\n",
        "                        <progress value='{value}' max='{length}', style='width: 100%'>{value}</progress>\n",
        "                    </td>\n",
        "                </tr>\n",
        "            </tbody>\n",
        "        </table>        \n",
        "        \"\"\"\n",
        "\n",
        "    def __init__(self, length):\n",
        "        self.length = length\n",
        "        self.count = 0\n",
        "        self.display = display(self.html(0, 0), display_id=True)\n",
        "        \n",
        "    def html(self, count, loss):\n",
        "        return HTML(self.tmpl.format(length=self.length, value=count, loss=loss))\n",
        "        \n",
        "    def update(self, count, loss):\n",
        "        self.count += count\n",
        "        self.display.update(self.html(self.count, loss))"
      ],
      "execution_count": 0,
      "outputs": []
    },
    {
      "cell_type": "markdown",
      "metadata": {
        "colab_type": "text",
        "id": "OvolK6DdAOTJ"
      },
      "source": [
        "### Define a model\n",
        "---\n"
      ]
    },
    {
      "cell_type": "code",
      "metadata": {
        "colab_type": "code",
        "id": "0LjBgQWTAQBi",
        "colab": {}
      },
      "source": [
        "\n",
        "class SimpleConvNet(nn.Module):\n",
        "    def __init__(self, num_classes=10):\n",
        "        super().__init__()\n",
        "\n",
        "        self.layer1 = nn.Sequential(\n",
        "            # Nx3x32x32  (32 - 3 + 2) / 1 + 1 = 32\n",
        "            nn.Conv2d(3, 32, kernel_size=3, stride=1, padding=1),\n",
        "            # Nx32x32x32\n",
        "            nn.BatchNorm2d(32),\n",
        "            nn.ReLU(),\n",
        "\n",
        "            # Nx32x32x32  (32 - 3 + 2) / 1 + 1 = 32\n",
        "            nn.Conv2d(32, 64, kernel_size=3, stride=1, padding=1),\n",
        "            # Nx64x32x32\n",
        "            nn.BatchNorm2d(64),\n",
        "            nn.ReLU(),\n",
        "\n",
        "            # Nx64x32x32 (32 - 5 + 0) / 3 + 1 = 10\n",
        "            nn.Conv2d(64, 128, kernel_size=5, stride=3, padding=0),\n",
        "            # Nx128x16x16\n",
        "            nn.BatchNorm2d(128),\n",
        "            nn.ReLU(),\n",
        "\n",
        "            # Nx128x16x16 (10 - 5 + 2) / 1 + 1 = 8\n",
        "            nn.Conv2d(128, 256, kernel_size=5, stride=1, padding=1),\n",
        "            # Nx256x8x8\n",
        "            nn.BatchNorm2d(256),\n",
        "            nn.ReLU(),\n",
        "\n",
        "            )\n",
        "        \n",
        "        self.fc = nn.Sequential(\n",
        "            # Nx256x8x8\n",
        "            nn.Linear(256*8*8, 500),\n",
        "            nn.BatchNorm1d(500),\n",
        "            nn.ReLU(),\n",
        "            nn.Linear(500, num_classes),\n",
        "        )\n",
        "        \n",
        "    def forward(self, x):\n",
        "        out = self.layer1(x)\n",
        "        out = out.reshape(out.size(0), -1)\n",
        "        out = self.fc(out)\n",
        "        return out\n"
      ],
      "execution_count": 0,
      "outputs": []
    },
    {
      "cell_type": "markdown",
      "metadata": {
        "colab_type": "text",
        "id": "2qowiiqIQvxl"
      },
      "source": [
        "### Instantiate the model\n",
        "---"
      ]
    },
    {
      "cell_type": "code",
      "metadata": {
        "colab_type": "code",
        "id": "z2Fe9zzeQzRB",
        "outputId": "02b04e78-c29e-4635-888c-7a413d47d740",
        "colab": {
          "base_uri": "https://localhost:8080/",
          "height": 391
        }
      },
      "source": [
        "model = SimpleConvNet()\n",
        "\n",
        "model.to(device)\n"
      ],
      "execution_count": 152,
      "outputs": [
        {
          "output_type": "execute_result",
          "data": {
            "text/plain": [
              "SimpleConvNet(\n",
              "  (layer1): Sequential(\n",
              "    (0): Conv2d(3, 32, kernel_size=(3, 3), stride=(1, 1), padding=(1, 1))\n",
              "    (1): BatchNorm2d(32, eps=1e-05, momentum=0.1, affine=True, track_running_stats=True)\n",
              "    (2): ReLU()\n",
              "    (3): Conv2d(32, 64, kernel_size=(3, 3), stride=(1, 1), padding=(1, 1))\n",
              "    (4): BatchNorm2d(64, eps=1e-05, momentum=0.1, affine=True, track_running_stats=True)\n",
              "    (5): ReLU()\n",
              "    (6): Conv2d(64, 128, kernel_size=(5, 5), stride=(3, 3))\n",
              "    (7): BatchNorm2d(128, eps=1e-05, momentum=0.1, affine=True, track_running_stats=True)\n",
              "    (8): ReLU()\n",
              "    (9): Conv2d(128, 256, kernel_size=(5, 5), stride=(1, 1), padding=(1, 1))\n",
              "    (10): BatchNorm2d(256, eps=1e-05, momentum=0.1, affine=True, track_running_stats=True)\n",
              "    (11): ReLU()\n",
              "  )\n",
              "  (fc): Sequential(\n",
              "    (0): Linear(in_features=16384, out_features=500, bias=True)\n",
              "    (1): BatchNorm1d(500, eps=1e-05, momentum=0.1, affine=True, track_running_stats=True)\n",
              "    (2): ReLU()\n",
              "    (3): Linear(in_features=500, out_features=10, bias=True)\n",
              "  )\n",
              ")"
            ]
          },
          "metadata": {
            "tags": []
          },
          "execution_count": 152
        }
      ]
    },
    {
      "cell_type": "code",
      "metadata": {
        "colab_type": "code",
        "id": "JcuWxEnnRfGX",
        "colab": {}
      },
      "source": [
        "loss_func = nn.CrossEntropyLoss()\n",
        "\n",
        "optimizer = torch.optim.Adam(model.parameters(), lr=learning_rate)\n"
      ],
      "execution_count": 0,
      "outputs": []
    },
    {
      "cell_type": "markdown",
      "metadata": {
        "colab_type": "text",
        "id": "fTgOBgWQQ3Nc"
      },
      "source": [
        "### Train/test\n",
        "---"
      ]
    },
    {
      "cell_type": "code",
      "metadata": {
        "colab_type": "code",
        "id": "SHkcPL-RRmEA",
        "colab": {}
      },
      "source": [
        "def train(loss_list):\n",
        "    # train phase\n",
        "    model.train()\n",
        "    \n",
        "    # create a progress bar\n",
        "    batch_loss_list = []\n",
        "    progress = ProgressMonitor(length=len(train_dataset))\n",
        "\n",
        "    for batch, target in train_loader:\n",
        "        # Move the training data to the GPU\n",
        "        batch, target = batch.to(device), target.to(device)\n",
        "\n",
        "        # forward propagation\n",
        "        output = model( batch )\n",
        "\n",
        "        # calculate the loss\n",
        "        loss = loss_func( output, target )\n",
        "        \n",
        "        # clear previous gradient computation\n",
        "        optimizer.zero_grad()\n",
        " \n",
        "        # backpropagate to compute gradients\n",
        "        loss.backward()\n",
        " \n",
        "        # update model weights\n",
        "        optimizer.step()\n",
        "\n",
        "        # save loss value\n",
        "        loss_list.append(loss.item())\n",
        "\n",
        "        # update progress bar\n",
        "        batch_loss_list.append(loss.item())\n",
        "        progress.update(batch.shape[0], sum(batch_loss_list)/len(batch_loss_list) )\n",
        "        "
      ],
      "execution_count": 0,
      "outputs": []
    },
    {
      "cell_type": "code",
      "metadata": {
        "colab_type": "code",
        "id": "zYUACgk35pyY",
        "colab": {}
      },
      "source": [
        "def test():\n",
        "    # test phase\n",
        "    model.eval()\n",
        "\n",
        "    correct = 0\n",
        "\n",
        "    pred_list = []\n",
        "    \n",
        "    # We don't need gradients for test, so wrap in \n",
        "    # no_grad to save memory\n",
        "    with torch.no_grad():\n",
        "        for batch, target in test_loader:\n",
        "            # Move the training batch to the GPU\n",
        "            batch, target = batch.to(device), target.to(device)\n",
        "\n",
        "            # forward propagation\n",
        "            output = model( batch )\n",
        "\n",
        "            # get prediction\n",
        "            output = torch.argmax(output, 1)\n",
        "\n",
        "            # accumulate correct number\n",
        "            correct += (output == target).sum().item()\n",
        "\n",
        "            pred_list.extend(output.tolist())\n",
        "\n",
        "    # Calculate test accuracy    \n",
        "    acc = 100 * float(correct) / len(test_dataset) \n",
        "    print( 'Test accuracy: {}/{} ({:.2f}%)'.format( \n",
        "        correct, len(test_dataset), acc ) )  \n",
        "\n",
        "    return pred_list"
      ],
      "execution_count": 0,
      "outputs": []
    },
    {
      "cell_type": "code",
      "metadata": {
        "colab_type": "code",
        "id": "E8XEMTWr5sJg",
        "outputId": "5cf8fdc1-5bf3-48d4-9471-3958313306f0",
        "colab": {
          "base_uri": "https://localhost:8080/",
          "height": 617
        }
      },
      "source": [
        "loss_list = []\n",
        "\n",
        "for epoch in range(num_epochs):\n",
        "    \n",
        "    train(loss_list)\n",
        "    test()"
      ],
      "execution_count": 156,
      "outputs": [
        {
          "output_type": "display_data",
          "data": {
            "text/html": [
              "\n",
              "        <table style=\"width: 100%;\">\n",
              "            <tbody>\n",
              "                <tr>\n",
              "                    <td style=\"width: 30%;\">\n",
              "                     <b>Loss: 1.1383</b> &nbsp&nbsp&nbsp 50000 / 50000\n",
              "                    </td>\n",
              "                    <td style=\"width: 70%;\">\n",
              "                        <progress value='50000' max='50000', style='width: 100%'>50000</progress>\n",
              "                    </td>\n",
              "                </tr>\n",
              "            </tbody>\n",
              "        </table>        \n",
              "        "
            ],
            "text/plain": [
              "<IPython.core.display.HTML object>"
            ]
          },
          "metadata": {
            "tags": []
          }
        },
        {
          "output_type": "stream",
          "text": [
            "Test accuracy: 6753/10000 (67.53%)\n"
          ],
          "name": "stdout"
        },
        {
          "output_type": "display_data",
          "data": {
            "text/html": [
              "\n",
              "        <table style=\"width: 100%;\">\n",
              "            <tbody>\n",
              "                <tr>\n",
              "                    <td style=\"width: 30%;\">\n",
              "                     <b>Loss: 0.6828</b> &nbsp&nbsp&nbsp 50000 / 50000\n",
              "                    </td>\n",
              "                    <td style=\"width: 70%;\">\n",
              "                        <progress value='50000' max='50000', style='width: 100%'>50000</progress>\n",
              "                    </td>\n",
              "                </tr>\n",
              "            </tbody>\n",
              "        </table>        \n",
              "        "
            ],
            "text/plain": [
              "<IPython.core.display.HTML object>"
            ]
          },
          "metadata": {
            "tags": []
          }
        },
        {
          "output_type": "stream",
          "text": [
            "Test accuracy: 7329/10000 (73.29%)\n"
          ],
          "name": "stdout"
        },
        {
          "output_type": "display_data",
          "data": {
            "text/html": [
              "\n",
              "        <table style=\"width: 100%;\">\n",
              "            <tbody>\n",
              "                <tr>\n",
              "                    <td style=\"width: 30%;\">\n",
              "                     <b>Loss: 0.4869</b> &nbsp&nbsp&nbsp 50000 / 50000\n",
              "                    </td>\n",
              "                    <td style=\"width: 70%;\">\n",
              "                        <progress value='50000' max='50000', style='width: 100%'>50000</progress>\n",
              "                    </td>\n",
              "                </tr>\n",
              "            </tbody>\n",
              "        </table>        \n",
              "        "
            ],
            "text/plain": [
              "<IPython.core.display.HTML object>"
            ]
          },
          "metadata": {
            "tags": []
          }
        },
        {
          "output_type": "stream",
          "text": [
            "Test accuracy: 7531/10000 (75.31%)\n"
          ],
          "name": "stdout"
        },
        {
          "output_type": "display_data",
          "data": {
            "text/html": [
              "\n",
              "        <table style=\"width: 100%;\">\n",
              "            <tbody>\n",
              "                <tr>\n",
              "                    <td style=\"width: 30%;\">\n",
              "                     <b>Loss: 0.3256</b> &nbsp&nbsp&nbsp 50000 / 50000\n",
              "                    </td>\n",
              "                    <td style=\"width: 70%;\">\n",
              "                        <progress value='50000' max='50000', style='width: 100%'>50000</progress>\n",
              "                    </td>\n",
              "                </tr>\n",
              "            </tbody>\n",
              "        </table>        \n",
              "        "
            ],
            "text/plain": [
              "<IPython.core.display.HTML object>"
            ]
          },
          "metadata": {
            "tags": []
          }
        },
        {
          "output_type": "stream",
          "text": [
            "Test accuracy: 7639/10000 (76.39%)\n"
          ],
          "name": "stdout"
        },
        {
          "output_type": "display_data",
          "data": {
            "text/html": [
              "\n",
              "        <table style=\"width: 100%;\">\n",
              "            <tbody>\n",
              "                <tr>\n",
              "                    <td style=\"width: 30%;\">\n",
              "                     <b>Loss: 0.1816</b> &nbsp&nbsp&nbsp 50000 / 50000\n",
              "                    </td>\n",
              "                    <td style=\"width: 70%;\">\n",
              "                        <progress value='50000' max='50000', style='width: 100%'>50000</progress>\n",
              "                    </td>\n",
              "                </tr>\n",
              "            </tbody>\n",
              "        </table>        \n",
              "        "
            ],
            "text/plain": [
              "<IPython.core.display.HTML object>"
            ]
          },
          "metadata": {
            "tags": []
          }
        },
        {
          "output_type": "stream",
          "text": [
            "Test accuracy: 7819/10000 (78.19%)\n"
          ],
          "name": "stdout"
        },
        {
          "output_type": "display_data",
          "data": {
            "text/html": [
              "\n",
              "        <table style=\"width: 100%;\">\n",
              "            <tbody>\n",
              "                <tr>\n",
              "                    <td style=\"width: 30%;\">\n",
              "                     <b>Loss: 0.0854</b> &nbsp&nbsp&nbsp 50000 / 50000\n",
              "                    </td>\n",
              "                    <td style=\"width: 70%;\">\n",
              "                        <progress value='50000' max='50000', style='width: 100%'>50000</progress>\n",
              "                    </td>\n",
              "                </tr>\n",
              "            </tbody>\n",
              "        </table>        \n",
              "        "
            ],
            "text/plain": [
              "<IPython.core.display.HTML object>"
            ]
          },
          "metadata": {
            "tags": []
          }
        },
        {
          "output_type": "stream",
          "text": [
            "Test accuracy: 7739/10000 (77.39%)\n"
          ],
          "name": "stdout"
        },
        {
          "output_type": "display_data",
          "data": {
            "text/html": [
              "\n",
              "        <table style=\"width: 100%;\">\n",
              "            <tbody>\n",
              "                <tr>\n",
              "                    <td style=\"width: 30%;\">\n",
              "                     <b>Loss: 0.0399</b> &nbsp&nbsp&nbsp 50000 / 50000\n",
              "                    </td>\n",
              "                    <td style=\"width: 70%;\">\n",
              "                        <progress value='50000' max='50000', style='width: 100%'>50000</progress>\n",
              "                    </td>\n",
              "                </tr>\n",
              "            </tbody>\n",
              "        </table>        \n",
              "        "
            ],
            "text/plain": [
              "<IPython.core.display.HTML object>"
            ]
          },
          "metadata": {
            "tags": []
          }
        },
        {
          "output_type": "stream",
          "text": [
            "Test accuracy: 7954/10000 (79.54%)\n"
          ],
          "name": "stdout"
        },
        {
          "output_type": "display_data",
          "data": {
            "text/html": [
              "\n",
              "        <table style=\"width: 100%;\">\n",
              "            <tbody>\n",
              "                <tr>\n",
              "                    <td style=\"width: 30%;\">\n",
              "                     <b>Loss: 0.0172</b> &nbsp&nbsp&nbsp 50000 / 50000\n",
              "                    </td>\n",
              "                    <td style=\"width: 70%;\">\n",
              "                        <progress value='50000' max='50000', style='width: 100%'>50000</progress>\n",
              "                    </td>\n",
              "                </tr>\n",
              "            </tbody>\n",
              "        </table>        \n",
              "        "
            ],
            "text/plain": [
              "<IPython.core.display.HTML object>"
            ]
          },
          "metadata": {
            "tags": []
          }
        },
        {
          "output_type": "stream",
          "text": [
            "Test accuracy: 8110/10000 (81.10%)\n"
          ],
          "name": "stdout"
        },
        {
          "output_type": "display_data",
          "data": {
            "text/html": [
              "\n",
              "        <table style=\"width: 100%;\">\n",
              "            <tbody>\n",
              "                <tr>\n",
              "                    <td style=\"width: 30%;\">\n",
              "                     <b>Loss: 0.0064</b> &nbsp&nbsp&nbsp 50000 / 50000\n",
              "                    </td>\n",
              "                    <td style=\"width: 70%;\">\n",
              "                        <progress value='50000' max='50000', style='width: 100%'>50000</progress>\n",
              "                    </td>\n",
              "                </tr>\n",
              "            </tbody>\n",
              "        </table>        \n",
              "        "
            ],
            "text/plain": [
              "<IPython.core.display.HTML object>"
            ]
          },
          "metadata": {
            "tags": []
          }
        },
        {
          "output_type": "stream",
          "text": [
            "Test accuracy: 8179/10000 (81.79%)\n"
          ],
          "name": "stdout"
        },
        {
          "output_type": "display_data",
          "data": {
            "text/html": [
              "\n",
              "        <table style=\"width: 100%;\">\n",
              "            <tbody>\n",
              "                <tr>\n",
              "                    <td style=\"width: 30%;\">\n",
              "                     <b>Loss: 0.0019</b> &nbsp&nbsp&nbsp 50000 / 50000\n",
              "                    </td>\n",
              "                    <td style=\"width: 70%;\">\n",
              "                        <progress value='50000' max='50000', style='width: 100%'>50000</progress>\n",
              "                    </td>\n",
              "                </tr>\n",
              "            </tbody>\n",
              "        </table>        \n",
              "        "
            ],
            "text/plain": [
              "<IPython.core.display.HTML object>"
            ]
          },
          "metadata": {
            "tags": []
          }
        },
        {
          "output_type": "stream",
          "text": [
            "Test accuracy: 8207/10000 (82.07%)\n"
          ],
          "name": "stdout"
        },
        {
          "output_type": "display_data",
          "data": {
            "text/html": [
              "\n",
              "        <table style=\"width: 100%;\">\n",
              "            <tbody>\n",
              "                <tr>\n",
              "                    <td style=\"width: 30%;\">\n",
              "                     <b>Loss: 0.0011</b> &nbsp&nbsp&nbsp 50000 / 50000\n",
              "                    </td>\n",
              "                    <td style=\"width: 70%;\">\n",
              "                        <progress value='50000' max='50000', style='width: 100%'>50000</progress>\n",
              "                    </td>\n",
              "                </tr>\n",
              "            </tbody>\n",
              "        </table>        \n",
              "        "
            ],
            "text/plain": [
              "<IPython.core.display.HTML object>"
            ]
          },
          "metadata": {
            "tags": []
          }
        },
        {
          "output_type": "stream",
          "text": [
            "Test accuracy: 8240/10000 (82.40%)\n"
          ],
          "name": "stdout"
        },
        {
          "output_type": "display_data",
          "data": {
            "text/html": [
              "\n",
              "        <table style=\"width: 100%;\">\n",
              "            <tbody>\n",
              "                <tr>\n",
              "                    <td style=\"width: 30%;\">\n",
              "                     <b>Loss: 0.0006</b> &nbsp&nbsp&nbsp 50000 / 50000\n",
              "                    </td>\n",
              "                    <td style=\"width: 70%;\">\n",
              "                        <progress value='50000' max='50000', style='width: 100%'>50000</progress>\n",
              "                    </td>\n",
              "                </tr>\n",
              "            </tbody>\n",
              "        </table>        \n",
              "        "
            ],
            "text/plain": [
              "<IPython.core.display.HTML object>"
            ]
          },
          "metadata": {
            "tags": []
          }
        },
        {
          "output_type": "stream",
          "text": [
            "Test accuracy: 8250/10000 (82.50%)\n"
          ],
          "name": "stdout"
        },
        {
          "output_type": "display_data",
          "data": {
            "text/html": [
              "\n",
              "        <table style=\"width: 100%;\">\n",
              "            <tbody>\n",
              "                <tr>\n",
              "                    <td style=\"width: 30%;\">\n",
              "                     <b>Loss: 0.0004</b> &nbsp&nbsp&nbsp 50000 / 50000\n",
              "                    </td>\n",
              "                    <td style=\"width: 70%;\">\n",
              "                        <progress value='50000' max='50000', style='width: 100%'>50000</progress>\n",
              "                    </td>\n",
              "                </tr>\n",
              "            </tbody>\n",
              "        </table>        \n",
              "        "
            ],
            "text/plain": [
              "<IPython.core.display.HTML object>"
            ]
          },
          "metadata": {
            "tags": []
          }
        },
        {
          "output_type": "stream",
          "text": [
            "Test accuracy: 8260/10000 (82.60%)\n"
          ],
          "name": "stdout"
        },
        {
          "output_type": "display_data",
          "data": {
            "text/html": [
              "\n",
              "        <table style=\"width: 100%;\">\n",
              "            <tbody>\n",
              "                <tr>\n",
              "                    <td style=\"width: 30%;\">\n",
              "                     <b>Loss: 0.0003</b> &nbsp&nbsp&nbsp 50000 / 50000\n",
              "                    </td>\n",
              "                    <td style=\"width: 70%;\">\n",
              "                        <progress value='50000' max='50000', style='width: 100%'>50000</progress>\n",
              "                    </td>\n",
              "                </tr>\n",
              "            </tbody>\n",
              "        </table>        \n",
              "        "
            ],
            "text/plain": [
              "<IPython.core.display.HTML object>"
            ]
          },
          "metadata": {
            "tags": []
          }
        },
        {
          "output_type": "stream",
          "text": [
            "Test accuracy: 8275/10000 (82.75%)\n"
          ],
          "name": "stdout"
        },
        {
          "output_type": "display_data",
          "data": {
            "text/html": [
              "\n",
              "        <table style=\"width: 100%;\">\n",
              "            <tbody>\n",
              "                <tr>\n",
              "                    <td style=\"width: 30%;\">\n",
              "                     <b>Loss: 0.0003</b> &nbsp&nbsp&nbsp 50000 / 50000\n",
              "                    </td>\n",
              "                    <td style=\"width: 70%;\">\n",
              "                        <progress value='50000' max='50000', style='width: 100%'>50000</progress>\n",
              "                    </td>\n",
              "                </tr>\n",
              "            </tbody>\n",
              "        </table>        \n",
              "        "
            ],
            "text/plain": [
              "<IPython.core.display.HTML object>"
            ]
          },
          "metadata": {
            "tags": []
          }
        },
        {
          "output_type": "stream",
          "text": [
            "Test accuracy: 8256/10000 (82.56%)\n"
          ],
          "name": "stdout"
        }
      ]
    },
    {
      "cell_type": "code",
      "metadata": {
        "colab_type": "code",
        "id": "8MsXdwMc6S61",
        "outputId": "e3b7811a-48da-4291-c972-65da8453d8d6",
        "colab": {
          "base_uri": "https://localhost:8080/",
          "height": 286
        }
      },
      "source": [
        "plt.plot(loss_list)"
      ],
      "execution_count": 157,
      "outputs": [
        {
          "output_type": "execute_result",
          "data": {
            "text/plain": [
              "[<matplotlib.lines.Line2D at 0x7fa694fe00f0>]"
            ]
          },
          "metadata": {
            "tags": []
          },
          "execution_count": 157
        },
        {
          "output_type": "display_data",
          "data": {
            "image/png": "[encoded data removed]",
            "text/plain": [
              "<Figure size 432x288 with 1 Axes>"
            ]
          },
          "metadata": {
            "tags": []
          }
        }
      ]
    },
    {
      "cell_type": "markdown",
      "metadata": {
        "colab_type": "text",
        "id": "c-qm58sSRw0L"
      },
      "source": [
        "### Make a CSV for submission\n",
        "---"
      ]
    },
    {
      "cell_type": "code",
      "metadata": {
        "colab_type": "code",
        "id": "Oc0IclsHsANN",
        "outputId": "62061444-8ec4-4597-b206-1c24a13d9adf",
        "colab": {
          "base_uri": "https://localhost:8080/",
          "height": 51
        }
      },
      "source": [
        "import csv\n",
        "\n",
        "def make_pred_csv(model):\n",
        "\n",
        "    pred_list = test()\n",
        "\n",
        "    print(len(pred_list))\n",
        "\n",
        "    with open('cifar10_submit.csv', mode='w') as pred_file:\n",
        "    \n",
        "        pred_writer = csv.writer(pred_file, delimiter=',')\n",
        "\n",
        "        pred_writer.writerow(['id', 'label'])\n",
        "\n",
        "        for i, label in enumerate(pred_list):\n",
        "            pred_writer.writerow([i+1, classes[label]])\n",
        "    \n",
        "\n",
        "make_pred_csv(model)"
      ],
      "execution_count": 158,
      "outputs": [
        {
          "output_type": "stream",
          "text": [
            "Test accuracy: 8256/10000 (82.56%)\n",
            "10000\n"
          ],
          "name": "stdout"
        }
      ]
    },
    {
      "cell_type": "code",
      "metadata": {
        "id": "A3ev72v3EHvk",
        "colab_type": "code",
        "colab": {}
      },
      "source": [
        ""
      ],
      "execution_count": 0,
      "outputs": []
    }
  ]
}