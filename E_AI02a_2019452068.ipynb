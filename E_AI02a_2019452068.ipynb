{
  "nbformat": 4,
  "nbformat_minor": 0,
  "metadata": {
    "colab": {
      "name": "E_AI02a_2019452068.ipynb",
      "provenance": [],
      "collapsed_sections": []
    },
    "kernelspec": {
      "display_name": "Python 3",
      "language": "python",
      "name": "python3"
    },
    "language_info": {
      "codemirror_mode": {
        "name": "ipython",
        "version": 3
      },
      "file_extension": ".py",
      "mimetype": "text/x-python",
      "name": "python",
      "nbconvert_exporter": "python",
      "pygments_lexer": "ipython3",
      "version": "3.7.2"
    }
  },
  "cells": [
    {
      "cell_type": "markdown",
      "metadata": {
        "id": "xiL2HHb174SD",
        "colab_type": "text"
      },
      "source": [
        "# E_AI 02a - The Perceptron Learning Algorithm\n",
        "\n",
        "\n",
        "> 학번:2019452068\n",
        ">\n",
        "> 이름:박규선\n",
        "\n",
        "---"
      ]
    },
    {
      "cell_type": "markdown",
      "metadata": {
        "id": "-rXl7bb874SE",
        "colab_type": "text"
      },
      "source": [
        "**The Perceptron Learning Algorithm**\n",
        "\n",
        "- Predicts an output based on the current weights and inputs\n",
        "- Compares it to the expected output, or label\n",
        "- Update its weights, if the prediction != the label\n",
        "- Iterate until the epoch threshold has been reached\n",
        "\n",
        ">    [Update rule]\n",
        "~~~\n",
        "만약 ŷᵢ - yᵢ ==  1 이라면, increase weights: w <- w + x\n",
        "만약 ŷᵢ - yᵢ == -1 이라면, decrease weights: w <- w - x\n",
        "만약 ŷᵢ - yᵢ ==  0 이라면, 아무것도 안함\n",
        "~~~\n",
        "\n",
        ">    [Pseudocode]\n",
        ">~~~\n",
        "w <- w + 𝛼 * ( ŷᵢ - yᵢ ) * xᵢ\n",
        "b <- b + 𝛼 * ( ŷᵢ - yᵢ )\n",
        "~~~\n",
        "~~~\n",
        "ŷᵢ: prediction\n",
        "yᵢ: label\n",
        "xᵢ: inputs\n",
        "𝛼: learning rate\n",
        "~~~\n",
        "\n",
        "**Reading material:** https://medium.com/@thomascountz/19-line-line-by-line-python-perceptron-b6f113b161f3"
      ]
    },
    {
      "cell_type": "markdown",
      "metadata": {
        "id": "eS5Yd3Md74SF",
        "colab_type": "text"
      },
      "source": [
        "### Dataset"
      ]
    },
    {
      "cell_type": "code",
      "metadata": {
        "id": "Y_Df79sb74SG",
        "colab_type": "code",
        "colab": {}
      },
      "source": [
        "import numpy as np"
      ],
      "execution_count": 0,
      "outputs": []
    },
    {
      "cell_type": "code",
      "metadata": {
        "id": "OpxLVHLV74SI",
        "colab_type": "code",
        "colab": {}
      },
      "source": [
        "inputs_t = []\n",
        "inputs_t.append(np.array([1, 1]))\n",
        "inputs_t.append(np.array([1, 0]))\n",
        "inputs_t.append(np.array([0, 1]))\n",
        "inputs_t.append(np.array([0, 0]))\n",
        "\n",
        "labels_and = np.array([1, 0, 0, 0])\n",
        "labels_nand = np.array([0, 1, 1, 1])\n",
        "labels_or = np.array([1, 1, 1, 0])\n",
        "labels_xor = np.array([0, 1, 1, 0])"
      ],
      "execution_count": 0,
      "outputs": []
    },
    {
      "cell_type": "markdown",
      "metadata": {
        "id": "TRwHD35D74SK",
        "colab_type": "text"
      },
      "source": [
        "### Perceptron class"
      ]
    },
    {
      "cell_type": "code",
      "metadata": {
        "colab_type": "code",
        "id": "BNpC_MSsicTM",
        "colab": {}
      },
      "source": [
        "import numpy as np\n",
        "\n",
        "class Perceptron:\n",
        "    \n",
        "    def __init__(self):\n",
        "        self.w = np.zeros(2)\n",
        "        self.b = 0\n",
        "        \n",
        "    def predict(self, x):\n",
        "        \n",
        "        out = np.dot(x, self.w) + self.b # Edit this\n",
        "\n",
        "        if out > 0:\n",
        "          return 1\n",
        "        else:\n",
        "          return 0 # Edit this\n",
        "    \n",
        "        \n",
        "    def train(self, inputs, labels, lr=0.01):\n",
        "        \n",
        "        for epoch in range(1000):\n",
        "\n",
        "            error_num = 0\n",
        "\n",
        "            for input_i, label_i in zip(inputs, labels):\n",
        "                \n",
        "                pred = self.predict(input_i) # Edit this\n",
        "\n",
        "                self.w = self.w + lr * (label_i - pred) * input_i # Edit this\n",
        "                self.b = self.b + lr * (label_i - pred) # Edit this\n",
        "\n",
        "                if label_i - pred != 0:\n",
        "                    error_num += 1\n",
        "                    \n",
        "            if error_num == 0:\n",
        "                print( 'training is done in epoch {}'.format(epoch) )\n",
        "                break\n",
        "        \n",
        "                "
      ],
      "execution_count": 0,
      "outputs": []
    },
    {
      "cell_type": "code",
      "metadata": {
        "id": "9bkrcMDq74SM",
        "colab_type": "code",
        "colab": {}
      },
      "source": [
        "p_and = Perceptron()\n",
        "p_nand = Perceptron()\n",
        "p_or = Perceptron()"
      ],
      "execution_count": 0,
      "outputs": []
    },
    {
      "cell_type": "code",
      "metadata": {
        "id": "bikdSSf_FFou",
        "colab_type": "code",
        "colab": {
          "base_uri": "https://localhost:8080/",
          "height": 51
        },
        "outputId": "1ab5c3d1-375b-47be-8428-afb010e491c1"
      },
      "source": [
        "print(inputs_t[0])\n",
        "p_and.predict(inputs_t[2])"
      ],
      "execution_count": 94,
      "outputs": [
        {
          "output_type": "stream",
          "text": [
            "[1 1]\n"
          ],
          "name": "stdout"
        },
        {
          "output_type": "execute_result",
          "data": {
            "text/plain": [
              "0"
            ]
          },
          "metadata": {
            "tags": []
          },
          "execution_count": 94
        }
      ]
    },
    {
      "cell_type": "markdown",
      "metadata": {
        "id": "cUlTbBvG74SO",
        "colab_type": "text"
      },
      "source": [
        "### Train"
      ]
    },
    {
      "cell_type": "code",
      "metadata": {
        "id": "ZVFldqlp74SO",
        "colab_type": "code",
        "colab": {
          "base_uri": "https://localhost:8080/",
          "height": 68
        },
        "outputId": "8272a31d-869e-4497-cd72-f7968e08c162"
      },
      "source": [
        "p_and.train( inputs_t, labels_and )\n",
        "p_nand.train( inputs_t, labels_nand )\n",
        "p_or.train( inputs_t, labels_or )\n"
      ],
      "execution_count": 95,
      "outputs": [
        {
          "output_type": "stream",
          "text": [
            "training is done in epoch 5\n",
            "training is done in epoch 7\n",
            "training is done in epoch 1\n"
          ],
          "name": "stdout"
        }
      ]
    },
    {
      "cell_type": "markdown",
      "metadata": {
        "id": "Il-aVgjO74SQ",
        "colab_type": "text"
      },
      "source": [
        "### Test\n"
      ]
    },
    {
      "cell_type": "code",
      "metadata": {
        "scrolled": false,
        "id": "Gs1njaN474SR",
        "colab_type": "code",
        "colab": {
          "base_uri": "https://localhost:8080/",
          "height": 272
        },
        "outputId": "8a9a6212-931f-4167-fc39-7de7da43c1af"
      },
      "source": [
        "print('AND')\n",
        "for i, input_i in enumerate(inputs_t):\n",
        "    pred = p_and.predict(input_i)\n",
        "    print( \"input: {} predict: {} label: {}\".format( input_i, pred, labels_and[i] ) )\n",
        "    \n",
        "print('NAND')\n",
        "for i, input_i in enumerate(inputs_t):\n",
        "    pred = p_nand.predict(input_i)\n",
        "    print( \"input: {} predict: {} label: {}\".format( input_i, pred, labels_nand[i] ) )\n",
        "    \n",
        "print('OR')\n",
        "for i, input_i in enumerate(inputs_t):\n",
        "    pred = p_or.predict(input_i)\n",
        "    print( \"input: {} predict: {} label: {}\".format( input_i, pred, labels_or[i] ) )"
      ],
      "execution_count": 96,
      "outputs": [
        {
          "output_type": "stream",
          "text": [
            "AND\n",
            "input: [1 1] predict: 1 label: 1\n",
            "input: [1 0] predict: 0 label: 0\n",
            "input: [0 1] predict: 0 label: 0\n",
            "input: [0 0] predict: 0 label: 0\n",
            "NAND\n",
            "input: [1 1] predict: 0 label: 0\n",
            "input: [1 0] predict: 1 label: 1\n",
            "input: [0 1] predict: 1 label: 1\n",
            "input: [0 0] predict: 1 label: 1\n",
            "OR\n",
            "input: [1 1] predict: 1 label: 1\n",
            "input: [1 0] predict: 1 label: 1\n",
            "input: [0 1] predict: 1 label: 1\n",
            "input: [0 0] predict: 0 label: 0\n"
          ],
          "name": "stdout"
        }
      ]
    },
    {
      "cell_type": "markdown",
      "metadata": {
        "id": "mtx0nzhc74ST",
        "colab_type": "text"
      },
      "source": [
        "Expected output:\n",
        "~~~\n",
        "AND\n",
        "input: [1 1] predict: 1 label: 1\n",
        "input: [1 0] predict: 0 label: 0\n",
        "input: [0 1] predict: 0 label: 0\n",
        "input: [0 0] predict: 0 label: 0\n",
        "NAND\n",
        "input: [1 1] predict: 0 label: 0\n",
        "input: [1 0] predict: 1 label: 1\n",
        "input: [0 1] predict: 1 label: 1\n",
        "input: [0 0] predict: 1 label: 1\n",
        "OR\n",
        "input: [1 1] predict: 1 label: 1\n",
        "input: [1 0] predict: 1 label: 1\n",
        "input: [0 1] predict: 1 label: 1\n",
        "input: [0 0] predict: 0 label: 0\n",
        "~~~"
      ]
    },
    {
      "cell_type": "markdown",
      "metadata": {
        "id": "nO7qUb5W74SU",
        "colab_type": "text"
      },
      "source": [
        "---\n",
        "\n",
        "### Perceptron_XOR class"
      ]
    },
    {
      "cell_type": "code",
      "metadata": {
        "id": "HkD0ErKY74SU",
        "colab_type": "code",
        "colab": {}
      },
      "source": [
        "import numpy as np\n",
        "\n",
        "class Perceptron_XOR:\n",
        "    \n",
        "    def __init__(self):\n",
        "        self.p_and = Perceptron()\n",
        "        self.p_nand = Perceptron()\n",
        "        self.p_or = Perceptron()\n",
        "\n",
        "    def predict(self, x):\n",
        "        pred_nand = self.p_nand.predict(x) # Edit this\n",
        "        pred_or = self.p_or.predict(x) # Edit this\n",
        "        pred_and = self.p_and.predict(np.array([pred_nand, pred_or])) # Edit this\n",
        "        \n",
        "        return pred_and\n",
        "        \n",
        "    def train(self):\n",
        "        self.p_and.train( inputs_t, labels_and )\n",
        "        self.p_nand.train( inputs_t, labels_nand )\n",
        "        self.p_or.train( inputs_t, labels_or )\n",
        "                        "
      ],
      "execution_count": 0,
      "outputs": []
    },
    {
      "cell_type": "code",
      "metadata": {
        "id": "bkdYjcgx74SY",
        "colab_type": "code",
        "colab": {}
      },
      "source": [
        "p_xor = Perceptron_XOR()"
      ],
      "execution_count": 0,
      "outputs": []
    },
    {
      "cell_type": "markdown",
      "metadata": {
        "id": "TG8RoTvH74Sa",
        "colab_type": "text"
      },
      "source": [
        "### Train"
      ]
    },
    {
      "cell_type": "code",
      "metadata": {
        "id": "_q8p0Q3a74Sa",
        "colab_type": "code",
        "colab": {
          "base_uri": "https://localhost:8080/",
          "height": 68
        },
        "outputId": "536e5062-64fa-4101-dac2-1d5186fc044a"
      },
      "source": [
        "p_xor.train()"
      ],
      "execution_count": 121,
      "outputs": [
        {
          "output_type": "stream",
          "text": [
            "training is done in epoch 5\n",
            "training is done in epoch 7\n",
            "training is done in epoch 1\n"
          ],
          "name": "stdout"
        }
      ]
    },
    {
      "cell_type": "markdown",
      "metadata": {
        "id": "oiv0VTaC74Sc",
        "colab_type": "text"
      },
      "source": [
        "### Test\n"
      ]
    },
    {
      "cell_type": "code",
      "metadata": {
        "id": "8kR7rmrG74Sc",
        "colab_type": "code",
        "colab": {
          "base_uri": "https://localhost:8080/",
          "height": 357
        },
        "outputId": "5570e0b9-0548-441e-f98d-f15c533036ba"
      },
      "source": [
        "print('AND')\n",
        "for i, input_i in enumerate(inputs_t):\n",
        "    pred = p_xor.p_and.predict(input_i)\n",
        "    print( \"input: {} predict: {} label: {}\".format( input_i, pred, labels_and[i] ) )\n",
        "    \n",
        "print('NAND')\n",
        "for i, input_i in enumerate(inputs_t):\n",
        "    pred = p_xor.p_nand.predict(input_i)\n",
        "    print( \"input: {} predict: {} label: {}\".format( input_i, pred, labels_nand[i] ) )\n",
        "    \n",
        "print('OR')\n",
        "for i, input_i in enumerate(inputs_t):\n",
        "    pred = p_xor.p_or.predict(input_i)\n",
        "    print( \"input: {} predict: {} label: {}\".format( input_i, pred, labels_or[i] ) )\n",
        "\n",
        "print('XOR')\n",
        "for i, input_i in enumerate(inputs_t):\n",
        "    pred = p_xor.predict(input_i)\n",
        "    print( \"input: {} predict: {} label: {}\".format( input_i, pred, labels_xor[i] ) )\n",
        "    "
      ],
      "execution_count": 122,
      "outputs": [
        {
          "output_type": "stream",
          "text": [
            "AND\n",
            "input: [1 1] predict: 1 label: 1\n",
            "input: [1 0] predict: 0 label: 0\n",
            "input: [0 1] predict: 0 label: 0\n",
            "input: [0 0] predict: 0 label: 0\n",
            "NAND\n",
            "input: [1 1] predict: 0 label: 0\n",
            "input: [1 0] predict: 1 label: 1\n",
            "input: [0 1] predict: 1 label: 1\n",
            "input: [0 0] predict: 1 label: 1\n",
            "OR\n",
            "input: [1 1] predict: 1 label: 1\n",
            "input: [1 0] predict: 1 label: 1\n",
            "input: [0 1] predict: 1 label: 1\n",
            "input: [0 0] predict: 0 label: 0\n",
            "XOR\n",
            "input: [1 1] predict: 0 label: 0\n",
            "input: [1 0] predict: 1 label: 1\n",
            "input: [0 1] predict: 1 label: 1\n",
            "input: [0 0] predict: 0 label: 0\n"
          ],
          "name": "stdout"
        }
      ]
    },
    {
      "cell_type": "markdown",
      "metadata": {
        "id": "mZKmnCJD74Se",
        "colab_type": "text"
      },
      "source": [
        "Expected output:\n",
        "\n",
        ">~~~\n",
        "AND\n",
        "input: [1 1] predict: 1 label: 1\n",
        "input: [1 0] predict: 0 label: 0\n",
        "input: [0 1] predict: 0 label: 0\n",
        "input: [0 0] predict: 0 label: 0\n",
        "NAND\n",
        "input: [1 1] predict: 0 label: 0\n",
        "input: [1 0] predict: 1 label: 1\n",
        "input: [0 1] predict: 1 label: 1\n",
        "input: [0 0] predict: 1 label: 1\n",
        "OR\n",
        "input: [1 1] predict: 1 label: 1\n",
        "input: [1 0] predict: 1 label: 1\n",
        "input: [0 1] predict: 1 label: 1\n",
        "input: [0 0] predict: 0 label: 0\n",
        "XOR\n",
        "input: [1 1] predict: 0 label: 0\n",
        "input: [1 0] predict: 1 label: 1\n",
        "input: [0 1] predict: 1 label: 1\n",
        "input: [0 0] predict: 0 label: 0\n",
        ">~~~"
      ]
    },
    {
      "cell_type": "code",
      "metadata": {
        "id": "zrS8BZq4IsxC",
        "colab_type": "code",
        "colab": {}
      },
      "source": [
        ""
      ],
      "execution_count": 0,
      "outputs": []
    }
  ]
}