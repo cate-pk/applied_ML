{
 "cells": [
  {
   "cell_type": "markdown",
   "metadata": {},
   "source": [
    "# E_AI 03 - Neural Network\n",
    "\n",
    "\n",
    "> 학번:\n",
    ">\n",
    "> 이름:\n",
    "\n",
    "---"
   ]
  },
  {
   "cell_type": "code",
   "execution_count": null,
   "metadata": {},
   "outputs": [],
   "source": [
    "import numpy as np\n",
    "import matplotlib.pylab as plt"
   ]
  },
  {
   "cell_type": "code",
   "execution_count": 2,
   "metadata": {
    "colab": {},
    "colab_type": "code",
    "id": "njwmY6nDzm_C"
   },
   "outputs": [],
   "source": [
    "# 3.1\n",
    "\n",
    "def step_function(x):\n",
    "    if x > 0:\n",
    "        return 1\n",
    "    else:\n",
    "        return 0"
   ]
  },
  {
   "cell_type": "code",
   "execution_count": 3,
   "metadata": {
    "colab": {},
    "colab_type": "code",
    "id": "BfLe2GLt0abB"
   },
   "outputs": [],
   "source": [
    "# 3.2\n",
    "\n",
    "def step_function(x):\n",
    "    y = x > 0\n",
    "    return y.astype( np.int )"
   ]
  },
  {
   "cell_type": "code",
   "execution_count": 4,
   "metadata": {
    "colab": {
     "base_uri": "https://localhost:8080/",
     "height": 35
    },
    "colab_type": "code",
    "id": "pVsU5igm1AvF",
    "outputId": "14605543-2adf-4761-ae6c-de5a201c8dd2"
   },
   "outputs": [
    {
     "data": {
      "text/plain": [
       "array([False,  True,  True])"
      ]
     },
     "execution_count": 4,
     "metadata": {},
     "output_type": "execute_result"
    }
   ],
   "source": [
    "# 3.3\n",
    "\n",
    "import numpy as np\n",
    "x = np.array([-1.0, 1.0, 2.0])\n",
    "\n",
    "print(x)\n",
    "# array([-1., 1., 2.])\n",
    "\n",
    "y = x > 0\n",
    "print(y)\n",
    "# array([False, True, True], dtype=bool)"
   ]
  },
  {
   "cell_type": "code",
   "execution_count": 5,
   "metadata": {
    "colab": {
     "base_uri": "https://localhost:8080/",
     "height": 35
    },
    "colab_type": "code",
    "id": "zwniQ4KR1Ikq",
    "outputId": "8a1b67ce-8feb-4daf-f77f-51dd30bb4af7"
   },
   "outputs": [
    {
     "data": {
      "text/plain": [
       "array([0, 1, 1])"
      ]
     },
     "execution_count": 5,
     "metadata": {},
     "output_type": "execute_result"
    }
   ],
   "source": [
    "# 3.4\n",
    "\n",
    "y = y.astype(np.int)\n",
    "y\n",
    "# array([0, 1, 1])"
   ]
  },
  {
   "cell_type": "code",
   "execution_count": null,
   "metadata": {
    "colab": {
     "base_uri": "https://localhost:8080/",
     "height": 35
    },
    "colab_type": "code",
    "id": "pVsU5igm1AvF",
    "outputId": "14605543-2adf-4761-ae6c-de5a201c8dd2"
   },
   "outputs": [],
   "source": [
    "# 3.5\n",
    "\n",
    "import numpy as np\n",
    "import matplotlib.pylab as plt\n",
    "\n",
    "def step_function(x):\n",
    "    return np.array(x > 0, dtype=np.int)\n",
    "\n",
    "X = np.arange(-5.0, 5.0, 0.1)\n",
    "Y = step_function(X)\n",
    "plt.plot(X, Y)\n",
    "plt.ylim(-0.1, 1.1)\n",
    "plt.show()\n",
    "\n"
   ]
  },
  {
   "cell_type": "code",
   "execution_count": 7,
   "metadata": {
    "colab": {},
    "colab_type": "code",
    "id": "vWIuWmH21YrO"
   },
   "outputs": [],
   "source": [
    "# 3.6\n",
    "\n",
    "def sigmoid(x):\n",
    "    return 1 / (1 + np.exp(-x))"
   ]
  },
  {
   "cell_type": "code",
   "execution_count": null,
   "metadata": {
    "colab": {
     "base_uri": "https://localhost:8080/",
     "height": 35
    },
    "colab_type": "code",
    "id": "Y8ZsLroW1bQd",
    "outputId": "f9c0e21e-2a01-40c9-83d5-e0873297bfa3"
   },
   "outputs": [],
   "source": [
    "# 3.7\n",
    "\n",
    "x = np.array([-1.0, 1.0, 2.0])\n",
    "sigmoid(x)"
   ]
  },
  {
   "cell_type": "code",
   "execution_count": null,
   "metadata": {
    "colab": {
     "base_uri": "https://localhost:8080/",
     "height": 347
    },
    "colab_type": "code",
    "id": "-LYBv7Cg1oBv",
    "outputId": "19f19d07-b6d6-4076-8399-c3b8905db977"
   },
   "outputs": [],
   "source": [
    "# 3.8\n",
    "\n",
    "x = np.arange(-5.0, 5.0, 0.1)\n",
    "y = sigmoid(x)\n",
    "\n",
    "plt.plot(x, y)\n",
    "plt.ylim(-0.1, 1.1)\n",
    "plt.show()"
   ]
  },
  {
   "cell_type": "code",
   "execution_count": null,
   "metadata": {
    "colab": {},
    "colab_type": "code",
    "id": "ggmVzJfb1unY"
   },
   "outputs": [],
   "source": [
    "# 3.9\n",
    "\n",
    "def relu(x):\n",
    "    return np.maximum(0, x)"
   ]
  },
  {
   "cell_type": "code",
   "execution_count": null,
   "metadata": {
    "colab": {
     "base_uri": "https://localhost:8080/",
     "height": 53
    },
    "colab_type": "code",
    "id": "9QHDqv8E12QD",
    "outputId": "709b6a1b-52c1-4eed-ed57-4293139d2c9c"
   },
   "outputs": [],
   "source": [
    "# 3.10\n",
    "\n",
    "import numpy as np\n",
    "\n",
    "A = np.array([1, 2, 3, 4])\n",
    "print(A)\n",
    "# [1 2 3 4]\n",
    "\n",
    "print(np.ndim(A))\n",
    "# 1\n",
    "\n",
    "print(A.shape)\n",
    "# (4,)\n",
    "\n",
    "print(A.shape[0])\n",
    "# 4\n"
   ]
  },
  {
   "cell_type": "code",
   "execution_count": null,
   "metadata": {
    "colab": {
     "base_uri": "https://localhost:8080/",
     "height": 89
    },
    "colab_type": "code",
    "id": "ocizhENQ179A",
    "outputId": "09e62ab2-f08c-42f5-fa85-b0dd1ab254de"
   },
   "outputs": [],
   "source": [
    "# 3.11\n",
    "\n",
    "B = np.array([[1,2], [3,4], [5,6]])\n",
    "print(B)\n",
    "# [[1 2]\n",
    "#  [3 4]\n",
    "#  [5 6]]\n",
    "\n",
    "print(np.ndim(B))\n",
    "# 2\n",
    "\n",
    "print(B.shape)\n",
    "# (3, 2)"
   ]
  },
  {
   "cell_type": "code",
   "execution_count": null,
   "metadata": {
    "colab": {
     "base_uri": "https://localhost:8080/",
     "height": 53
    },
    "colab_type": "code",
    "id": "DHNnpcOf2DCw",
    "outputId": "5eb14153-94c8-4b93-d55f-65ea0fc8493b"
   },
   "outputs": [],
   "source": [
    "# 3.12\n",
    "\n",
    "A = np.array([[1,2], [3,4]])\n",
    "B = np.array([[5,6], [7,8]])\n",
    "\n",
    "print( np.dot(A, B) )\n",
    "# [[19 22]\n",
    "#  [43 50]]\n"
   ]
  },
  {
   "cell_type": "code",
   "execution_count": null,
   "metadata": {
    "colab": {
     "base_uri": "https://localhost:8080/",
     "height": 53
    },
    "colab_type": "code",
    "id": "YchNMW4l2Ido",
    "outputId": "1d7b07d3-c2ba-48b9-d5ae-b50bfa4aa06c"
   },
   "outputs": [],
   "source": [
    "# 3.13\n",
    "\n",
    "A = np.array([[1,2,3], [4,5,6]])\n",
    "B = np.array([[1,2], [3,4], [5,6]])\n",
    "\n",
    "print( np.dot(A, B) )\n",
    "# [[22 28]\n",
    "#  [49 64]]\n"
   ]
  },
  {
   "cell_type": "code",
   "execution_count": null,
   "metadata": {
    "colab": {
     "base_uri": "https://localhost:8080/",
     "height": 71
    },
    "colab_type": "code",
    "id": "B2alUjM42OGz",
    "outputId": "dc3d2c2f-c1d0-4eb4-e8bf-e6dc1c28d789"
   },
   "outputs": [],
   "source": [
    "# 3.14\n",
    "\n",
    "X = np.array([1, 2])\n",
    "print(X.shape)\n",
    "# (2,)\n",
    "\n",
    "W = np.array([[1, 3, 5], [2, 4, 6]])\n",
    "print(W.shape)\n",
    "# (2, 3)\n",
    "\n",
    "Y = np.dot( X, W )\n",
    "print(Y)\n",
    "# [ 5 11 17]"
   ]
  },
  {
   "cell_type": "code",
   "execution_count": null,
   "metadata": {
    "colab": {
     "base_uri": "https://localhost:8080/",
     "height": 35
    },
    "colab_type": "code",
    "id": "gLUSjfCc2TsP",
    "outputId": "2eec856e-f3cc-4695-c46e-4c56934edab8"
   },
   "outputs": [],
   "source": [
    "# 3.15 +\n",
    "\n",
    "X = np.array([1.0, 0.5])\n",
    "W1 = np.array([[0.1, 0.3, 0.5], [0.2, 0.4, 0.6]])\n",
    "B1 = np.array([0.1, 0.2, 0.3])\n"
   ]
  },
  {
   "cell_type": "code",
   "execution_count": null,
   "metadata": {
    "colab": {
     "base_uri": "https://localhost:8080/",
     "height": 53
    },
    "colab_type": "code",
    "id": "k19FqUPCDyFQ",
    "outputId": "6763872c-8fcd-4c02-ac1a-bfc85071ec21"
   },
   "outputs": [],
   "source": [
    "# 3.16\n",
    "\n",
    "Z1 = sigmoid(A1)\n",
    "\n",
    "print(A1)\n",
    "print(Z1)"
   ]
  },
  {
   "cell_type": "code",
   "execution_count": null,
   "metadata": {
    "colab": {
     "base_uri": "https://localhost:8080/",
     "height": 71
    },
    "colab_type": "code",
    "id": "JoWYBwTw3r4Q",
    "outputId": "7bcb273c-25c4-42ee-c229-483104a0802a"
   },
   "outputs": [],
   "source": [
    "# 3.17 +\n",
    "\n",
    "W2 = np.array([[0.1, 0.4], [0.2, 0.5], [0.3, 0.6]])\n",
    "B2 = np.array([0.1, 0.2])\n",
    "\n",
    "print(Z1.shape)\n",
    "print(W2.shape)\n",
    "print(B2.shape)\n",
    "\n"
   ]
  },
  {
   "cell_type": "code",
   "execution_count": null,
   "metadata": {
    "colab": {},
    "colab_type": "code",
    "id": "ogS8Rh8M5kbS"
   },
   "outputs": [],
   "source": [
    "# 3.18\n",
    "\n",
    "def identity_function(x):\n",
    "  return x\n",
    "\n",
    "W3 = np.array([[0.1, 0.3], [0.2, 0.4]])\n",
    "B3 = np.array([0.1, 0.2])\n",
    "\n",
    "A3 = np.dot(Z2, W3) + B3\n",
    "Y = identity_function(A3)"
   ]
  },
  {
   "cell_type": "code",
   "execution_count": null,
   "metadata": {
    "colab": {
     "base_uri": "https://localhost:8080/",
     "height": 35
    },
    "colab_type": "code",
    "id": "v21L0w5R1iXL",
    "outputId": "b7851e27-a2f3-4282-c472-6125715f5c53"
   },
   "outputs": [],
   "source": [
    "# 3.19 +\n",
    "\n",
    "def init_network():\n",
    "  network = {}\n",
    "  network['W1'] = np.array([[0.1, 0.3, 0.5], [0.2, 0.4, 0.6]])\n",
    "  network['b1'] = np.array([0.1, 0.2, 0.3])\n",
    "  network['W2'] = np.array([[0.1, 0.4], [0.2, 0.4], [0.3, 0.6]])\n",
    "  network['b2'] = np.array([0.1, 0.2])\n",
    "  network['W3'] = np.array([[0.1, 0.3], [0.2, 0.4]])\n",
    "  network['b3'] = np.array([0.1, 0.2])\n",
    "  \n",
    "  return network\n",
    "\n",
    "\n",
    "def forward( network, x ):\n",
    "  W1, W2, W3 = network['W1'], network['W2'], network['W3']\n",
    "  b1, b2, b3 = network['b1'], network['b2'], network['b3']\n",
    "  \n"
   ]
  },
  {
   "cell_type": "code",
   "execution_count": null,
   "metadata": {
    "colab": {
     "base_uri": "https://localhost:8080/",
     "height": 71
    },
    "colab_type": "code",
    "id": "Im7Gi2_z75Qp",
    "outputId": "e819ceed-1372-40dd-cc95-da9eb5b6b0e2"
   },
   "outputs": [],
   "source": [
    "# 3.20\n",
    "\n",
    "a = np.array([0.3, 2.9, 4.0])\n",
    "\n",
    "exp_a = np.exp(a)\n",
    "print(exp_a)\n",
    "\n",
    "sum_exp_a = np.sum(exp_a)\n",
    "print(sum_exp_a)\n",
    "\n",
    "y = exp_a / sum_exp_a\n",
    "print(y)"
   ]
  },
  {
   "cell_type": "code",
   "execution_count": null,
   "metadata": {
    "colab": {},
    "colab_type": "code",
    "id": "F8MIHcNtCyh8"
   },
   "outputs": [],
   "source": [
    "# 3.21\n",
    "\n",
    "def softmax(a):\n",
    "  exp_a = np.exp(a)\n",
    "  sum_exp_a = np.sum(exp_a)\n",
    "  y = exp_a / sum_exp_a\n",
    "  \n",
    "  return y"
   ]
  },
  {
   "cell_type": "code",
   "execution_count": null,
   "metadata": {
    "colab": {
     "base_uri": "https://localhost:8080/",
     "height": 107
    },
    "colab_type": "code",
    "id": "r6jwgEp_Dbq9",
    "outputId": "9326190c-ad84-4eb8-ad4b-1d9729535fbc"
   },
   "outputs": [],
   "source": [
    "# 3.22\n",
    "\n",
    "a = np.array([1010, 1000, 990])\n",
    "np.exp(a) / np.sum( np.exp(a) )"
   ]
  },
  {
   "cell_type": "code",
   "execution_count": null,
   "metadata": {
    "colab": {
     "base_uri": "https://localhost:8080/",
     "height": 35
    },
    "colab_type": "code",
    "id": "cgU1bte4E9M7",
    "outputId": "19ed5392-6032-41b4-c97b-d0e94a800579"
   },
   "outputs": [],
   "source": [
    "# 3.23\n",
    "\n",
    "c = np.max(a)\n",
    "a - c"
   ]
  },
  {
   "cell_type": "code",
   "execution_count": null,
   "metadata": {
    "colab": {
     "base_uri": "https://localhost:8080/",
     "height": 35
    },
    "colab_type": "code",
    "id": "n22lHuIOFBae",
    "outputId": "b7207ac2-3d7c-42b9-c337-ce2d33d16c30"
   },
   "outputs": [],
   "source": [
    "# 3.24\n",
    "\n",
    "np.exp(a - c) / np.sum( np.exp(a - c) )"
   ]
  },
  {
   "cell_type": "code",
   "execution_count": null,
   "metadata": {
    "colab": {},
    "colab_type": "code",
    "id": "tyq6DKOfFLdI"
   },
   "outputs": [],
   "source": [
    "# 3.25\n",
    "\n",
    "def softmax(a):\n",
    "  c = np.max(a)\n",
    "  exp_a = np.exp(a - c)\n",
    "  sum_exp_a = np.sum(exp_a)\n",
    "  y = exp_a / sum_exp_a\n",
    "  \n",
    "  return y"
   ]
  },
  {
   "cell_type": "code",
   "execution_count": null,
   "metadata": {
    "colab": {
     "base_uri": "https://localhost:8080/",
     "height": 53
    },
    "colab_type": "code",
    "id": "WOOOcUTiHcHD",
    "outputId": "2100d49e-893c-484c-b671-f6894e28fbe3"
   },
   "outputs": [],
   "source": [
    "# 3.26\n",
    "\n",
    "a = np.array([0.3, 2.9, 4.0])\n",
    "y = softmax(a)\n",
    "print(y)\n",
    "\n",
    "print(np.sum(y))"
   ]
  },
  {
   "cell_type": "code",
   "execution_count": null,
   "metadata": {},
   "outputs": [],
   "source": []
  },
  {
   "cell_type": "code",
   "execution_count": null,
   "metadata": {
    "colab": {
     "base_uri": "https://localhost:8080/",
     "height": 89
    },
    "colab_type": "code",
    "id": "ffu93pKUG7aU",
    "outputId": "5283b1f7-a832-4aeb-b430-85528cc7a362"
   },
   "outputs": [],
   "source": [
    "# 3.29\n",
    "\n",
    "from sklearn.datasets import fetch_openml\n",
    "X, y = fetch_openml('mnist_784', version=1, return_X_y=True)\n",
    "\n",
    "X = X.astype(np.uint8)\n",
    "y = y.astype(np.uint8)\n",
    "\n",
    "x_train = X[:60000]\n",
    "x_test = X[60000:]\n",
    "t_train = y[:60000]\n",
    "t_test = y[60000:]\n",
    "\n",
    "print(x_train.shape)\n",
    "print(t_train.shape)\n",
    "print(x_test.shape)\n",
    "print(t_test.shape)\n"
   ]
  },
  {
   "cell_type": "code",
   "execution_count": null,
   "metadata": {
    "colab": {
     "base_uri": "https://localhost:8080/",
     "height": 401
    },
    "colab_type": "code",
    "id": "ZlhXFYN_Rwm4",
    "outputId": "50883529-3423-4bb7-c24f-248a58fc79ea"
   },
   "outputs": [],
   "source": [
    "# 3.30\n",
    "\n",
    "import numpy as np\n",
    "import matplotlib.pyplot as plt\n",
    "import matplotlib.image as mpimg\n",
    "\n",
    "img = x_train[0]\n",
    "label = t_train[0]\n",
    "print(label)\n",
    "\n",
    "print(img.shape)\n",
    "img = img.reshape(28, 28)\n",
    "print(img.shape)\n",
    "\n",
    "plt.imshow(img, cmap='gray')\n",
    "plt.show()"
   ]
  },
  {
   "cell_type": "code",
   "execution_count": null,
   "metadata": {
    "colab": {
     "base_uri": "https://localhost:8080/",
     "height": 110
    },
    "colab_type": "code",
    "id": "nOyw4kMFdC6w",
    "outputId": "273f65be-9a24-4315-c747-14272eea8baf"
   },
   "outputs": [],
   "source": [
    "# 3.31 *\n",
    "\n",
    "img_count = 3*5\n",
    "\n",
    "fig = plt.figure()\n",
    "indices = np.random.choice( x_train.shape[0], img_count ) \n",
    "\n",
    "imgs = x_train[ indices ]\n",
    "labels = t_train[ indices ]\n",
    "\n",
    "for i in range(img_count):\n",
    "    ax = fig.add_subplot(3, 5, i+1)\n",
    "    ax.set_title( labels[i] )\n",
    "    ax.set_xticks([])\n",
    "    ax.set_yticks([])\n",
    "    ax.imshow(imgs[i].reshape(28,28))\n",
    "\n",
    "plt.show()"
   ]
  },
  {
   "cell_type": "code",
   "execution_count": null,
   "metadata": {},
   "outputs": [],
   "source": [
    "# 3.32\n",
    "\n",
    "!wget -O sample_weights.pkl https://bit.ly/2nsrh3M"
   ]
  },
  {
   "cell_type": "code",
   "execution_count": null,
   "metadata": {
    "colab": {},
    "colab_type": "code",
    "id": "MYF_ipqlk0-t"
   },
   "outputs": [],
   "source": [
    "# 3.33\n",
    "import pickle\n",
    "\n",
    "def get_data():\n",
    "    (x_train, t_train), (x_test, t_test) = \\\n",
    "        load_mnist(flatten=True, normalize=True, one_hot_label=False)\n",
    "    return x_test, t_test\n",
    "\n",
    "def init_network():\n",
    "    with open('sample_weights.pkl', 'rb') as f:\n",
    "        network = pickle.load(f)\n",
    "        \n",
    "    return network\n",
    "\n",
    "def predict(network, x):\n",
    "    W1, W2, W3 = network['W1'], network['W2'], network['W3']\n",
    "    b1, b2, b3 = network['b1'], network['b2'], network['b3']\n",
    "        \n",
    "    a1 = np.dot(x, W1) + b1\n",
    "    z1 = sigmoid(a1)\n",
    "    a2 = np.dot(z1, W2) + b2\n",
    "    z2 = sigmoid(a2)\n",
    "    a3 = np.dot(z2, W3) + b3\n",
    "    y = softmax(a3)\n",
    "    \n",
    "    return y\n"
   ]
  },
  {
   "cell_type": "code",
   "execution_count": null,
   "metadata": {
    "colab": {
     "base_uri": "https://localhost:8080/",
     "height": 35
    },
    "colab_type": "code",
    "id": "dCRvxnQqpPwM",
    "outputId": "860fc63c-3150-4915-ed60-149be2eaf94f"
   },
   "outputs": [],
   "source": [
    "# 3.34\n"
   ]
  },
  {
   "cell_type": "code",
   "execution_count": null,
   "metadata": {
    "colab": {
     "base_uri": "https://localhost:8080/",
     "height": 107
    },
    "colab_type": "code",
    "id": "8gu1Q_4qqaIp",
    "outputId": "380bb61b-970a-4f38-bb29-6c3a5cf19737",
    "scrolled": true
   },
   "outputs": [],
   "source": [
    "# 3.35\n"
   ]
  },
  {
   "cell_type": "code",
   "execution_count": null,
   "metadata": {
    "colab": {
     "base_uri": "https://localhost:8080/",
     "height": 10835
    },
    "colab_type": "code",
    "id": "Hm1qhw0Vwl85",
    "outputId": "d183aee9-9317-4761-8755-f38971be414b"
   },
   "outputs": [],
   "source": [
    "# 3.36\n"
   ]
  },
  {
   "cell_type": "code",
   "execution_count": null,
   "metadata": {
    "colab": {},
    "colab_type": "code",
    "id": "pU0AMxl8x6m-"
   },
   "outputs": [],
   "source": [
    "# 3.37\n",
    "\n",
    "print( list( range(0, 10) ) )\n",
    "print( list( range(0, 10, 3) ) )"
   ]
  },
  {
   "cell_type": "code",
   "execution_count": null,
   "metadata": {
    "colab": {
     "base_uri": "https://localhost:8080/",
     "height": 53
    },
    "colab_type": "code",
    "id": "-LV4bK7wtsHD",
    "outputId": "193a69fd-2c5f-40c4-e36c-d0d25c88597e"
   },
   "outputs": [],
   "source": [
    "# 3.38\n",
    "\n",
    "x = np.array([[0.1, 0.8, 0.1], \n",
    "              [0.3, 0.1, 0.6],\n",
    "              [0.2, 0.5, 0.3],\n",
    "              [0.8, 0.1, 0.1]])\n",
    "\n",
    "print( np.argmax(x, axis=1) )\n",
    "print( np.argmax(x, axis=0) )\n"
   ]
  },
  {
   "cell_type": "code",
   "execution_count": null,
   "metadata": {
    "colab": {},
    "colab_type": "code",
    "id": "uxfWwvfMzJ4G"
   },
   "outputs": [],
   "source": [
    "# 3.39\n",
    "\n",
    "y = np.array([1, 2, 1, 0])\n",
    "t = np.array([1, 2, 0, 0])\n",
    "\n",
    "print( y == t )\n",
    "print( np.sum(y == t) )"
   ]
  },
  {
   "cell_type": "code",
   "execution_count": null,
   "metadata": {},
   "outputs": [],
   "source": []
  }
 ],
 "metadata": {
  "colab": {
   "collapsed_sections": [],
   "name": "ai3.ipynb",
   "provenance": [],
   "version": "0.3.2"
  },
  "kernelspec": {
   "display_name": "Python 3",
   "language": "python",
   "name": "python3"
  },
  "language_info": {
   "codemirror_mode": {
    "name": "ipython",
    "version": 3
   },
   "file_extension": ".py",
   "mimetype": "text/x-python",
   "name": "python",
   "nbconvert_exporter": "python",
   "pygments_lexer": "ipython3",
   "version": "3.7.2"
  }
 },
 "nbformat": 4,
 "nbformat_minor": 1
}
